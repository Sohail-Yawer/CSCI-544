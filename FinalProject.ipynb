{
  "nbformat": 4,
  "nbformat_minor": 0,
  "metadata": {
    "colab": {
      "provenance": [],
      "collapsed_sections": [
        "1GhseQLdGv_R",
        "nSnAaUk9FSig",
        "egfh1XJAGSCe",
        "rRTfHZNjEZWd"
      ],
      "include_colab_link": true
    },
    "kernelspec": {
      "name": "python3",
      "display_name": "Python 3"
    },
    "language_info": {
      "name": "python"
    }
  },
  "cells": [
    {
      "cell_type": "markdown",
      "metadata": {
        "id": "view-in-github",
        "colab_type": "text"
      },
      "source": [
        "<a href=\"https://colab.research.google.com/github/Sohail-Yawer/CSCI-544/blob/main/FinalProject.ipynb\" target=\"_parent\"><img src=\"https://colab.research.google.com/assets/colab-badge.svg\" alt=\"Open In Colab\"/></a>"
      ]
    },
    {
      "cell_type": "code",
      "source": [
        "!pip install eli5"
      ],
      "metadata": {
        "colab": {
          "base_uri": "https://localhost:8080/"
        },
        "id": "QxXDOx59OBxu",
        "outputId": "b92bb35f-041c-4f72-88b6-8f2da990e2b9"
      },
      "execution_count": null,
      "outputs": [
        {
          "output_type": "stream",
          "name": "stdout",
          "text": [
            "Looking in indexes: https://pypi.org/simple, https://us-python.pkg.dev/colab-wheels/public/simple/\n",
            "Collecting eli5\n",
            "  Downloading eli5-0.13.0.tar.gz (216 kB)\n",
            "\u001b[K     |████████████████████████████████| 216 kB 4.4 MB/s \n",
            "\u001b[?25hRequirement already satisfied: attrs>17.1.0 in /usr/local/lib/python3.7/dist-packages (from eli5) (22.1.0)\n",
            "Collecting jinja2>=3.0.0\n",
            "  Downloading Jinja2-3.1.2-py3-none-any.whl (133 kB)\n",
            "\u001b[K     |████████████████████████████████| 133 kB 25.1 MB/s \n",
            "\u001b[?25hRequirement already satisfied: numpy>=1.9.0 in /usr/local/lib/python3.7/dist-packages (from eli5) (1.21.6)\n",
            "Requirement already satisfied: scipy in /usr/local/lib/python3.7/dist-packages (from eli5) (1.7.3)\n",
            "Requirement already satisfied: six in /usr/local/lib/python3.7/dist-packages (from eli5) (1.15.0)\n",
            "Requirement already satisfied: scikit-learn>=0.20 in /usr/local/lib/python3.7/dist-packages (from eli5) (1.0.2)\n",
            "Requirement already satisfied: graphviz in /usr/local/lib/python3.7/dist-packages (from eli5) (0.10.1)\n",
            "Requirement already satisfied: tabulate>=0.7.7 in /usr/local/lib/python3.7/dist-packages (from eli5) (0.8.10)\n",
            "Requirement already satisfied: MarkupSafe>=2.0 in /usr/local/lib/python3.7/dist-packages (from jinja2>=3.0.0->eli5) (2.0.1)\n",
            "Requirement already satisfied: joblib>=0.11 in /usr/local/lib/python3.7/dist-packages (from scikit-learn>=0.20->eli5) (1.2.0)\n",
            "Requirement already satisfied: threadpoolctl>=2.0.0 in /usr/local/lib/python3.7/dist-packages (from scikit-learn>=0.20->eli5) (3.1.0)\n",
            "Building wheels for collected packages: eli5\n",
            "  Building wheel for eli5 (setup.py) ... \u001b[?25l\u001b[?25hdone\n",
            "  Created wheel for eli5: filename=eli5-0.13.0-py2.py3-none-any.whl size=107748 sha256=5100e7693e3c51c0fe9d37a1efbf89bd8958de770c30e8cde8c0f4fa077f1a7f\n",
            "  Stored in directory: /root/.cache/pip/wheels/cc/3c/96/3ead31a8e6c20fc0f1a707fde2e05d49a80b1b4b30096573be\n",
            "Successfully built eli5\n",
            "Installing collected packages: jinja2, eli5\n",
            "  Attempting uninstall: jinja2\n",
            "    Found existing installation: Jinja2 2.11.3\n",
            "    Uninstalling Jinja2-2.11.3:\n",
            "      Successfully uninstalled Jinja2-2.11.3\n",
            "\u001b[31mERROR: pip's dependency resolver does not currently take into account all the packages that are installed. This behaviour is the source of the following dependency conflicts.\n",
            "notebook 5.7.16 requires jinja2<=3.0.0, but you have jinja2 3.1.2 which is incompatible.\n",
            "flask 1.1.4 requires Jinja2<3.0,>=2.10.1, but you have jinja2 3.1.2 which is incompatible.\u001b[0m\n",
            "Successfully installed eli5-0.13.0 jinja2-3.1.2\n"
          ]
        }
      ]
    },
    {
      "cell_type": "code",
      "execution_count": null,
      "metadata": {
        "colab": {
          "base_uri": "https://localhost:8080/",
          "height": 17
        },
        "id": "LDRT5RyRNSES",
        "outputId": "ec71b8bf-e662-4b8a-a99b-053f0168002a"
      },
      "outputs": [
        {
          "output_type": "display_data",
          "data": {
            "text/html": [
              "        <script type=\"text/javascript\">\n",
              "        window.PlotlyConfig = {MathJaxConfig: 'local'};\n",
              "        if (window.MathJax) {MathJax.Hub.Config({SVG: {font: \"STIX-Web\"}});}\n",
              "        if (typeof require !== 'undefined') {\n",
              "        require.undef(\"plotly\");\n",
              "        requirejs.config({\n",
              "            paths: {\n",
              "                'plotly': ['https://cdn.plot.ly/plotly-2.8.3.min']\n",
              "            }\n",
              "        });\n",
              "        require(['plotly'], function(Plotly) {\n",
              "            window._Plotly = Plotly;\n",
              "        });\n",
              "        }\n",
              "        </script>\n",
              "        "
            ]
          },
          "metadata": {}
        }
      ],
      "source": [
        "import numpy as np \n",
        "import pandas as pd \n",
        "import os\n",
        "import json\n",
        "from pandas.io.json import json_normalize\n",
        "import ast\n",
        "import matplotlib.pyplot as plt\n",
        "%matplotlib inline\n",
        "plt.style.use('ggplot')\n",
        "import seaborn as sns\n",
        "%matplotlib notebook\n",
        "from scipy.stats import skew, boxcox\n",
        "import plotly.offline as py\n",
        "py.init_notebook_mode(connected=True)\n",
        "import plotly.graph_objs as go\n",
        "import plotly.tools as tls\n",
        "from mpl_toolkits.mplot3d import Axes3D\n",
        "import ast\n",
        "import re\n",
        "import yaml\n",
        "import json\n",
        "from collections import Counter\n",
        "from nltk.corpus import stopwords\n",
        "from wordcloud import WordCloud\n",
        "from sklearn.feature_extraction.text import TfidfVectorizer\n",
        "from sklearn.model_selection import train_test_split, KFold\n",
        "import xgboost as xgb\n",
        "import lightgbm as lgb\n",
        "from sklearn.model_selection import RandomizedSearchCV, GridSearchCV\n",
        "from sklearn import model_selection\n",
        "from sklearn.metrics import accuracy_score\n",
        "from sklearn.metrics import mean_squared_error\n",
        "import eli5\n",
        "import time\n",
        "from datetime import datetime\n",
        "from sklearn.preprocessing import LabelEncoder\n",
        "import warnings  \n",
        "warnings.filterwarnings('ignore')\n",
        "pd.set_option('display.max_columns', 100)\n",
        "pd.set_option('display.max_rows', 100)"
      ]
    },
    {
      "cell_type": "code",
      "source": [
        "from google.colab import drive\n",
        "drive.mount('/content/drive/')\n"
      ],
      "metadata": {
        "colab": {
          "base_uri": "https://localhost:8080/"
        },
        "id": "Vp7Cg33JQ4mw",
        "outputId": "dd3da05e-2411-4618-d5f1-50084c0afc30"
      },
      "execution_count": null,
      "outputs": [
        {
          "output_type": "stream",
          "name": "stdout",
          "text": [
            "Mounted at /content/drive/\n"
          ]
        }
      ]
    },
    {
      "cell_type": "code",
      "source": [
        "cd \"drive/Shared drives\""
      ],
      "metadata": {
        "colab": {
          "base_uri": "https://localhost:8080/"
        },
        "id": "F0FrSSUtRKw-",
        "outputId": "6f5f6271-844f-4d8f-9410-5377641d7271"
      },
      "execution_count": null,
      "outputs": [
        {
          "output_type": "stream",
          "name": "stdout",
          "text": [
            "/content/drive/Shared drives\n"
          ]
        }
      ]
    },
    {
      "cell_type": "code",
      "source": [
        "cd NLP/"
      ],
      "metadata": {
        "colab": {
          "base_uri": "https://localhost:8080/"
        },
        "id": "lnWRD43RShCk",
        "outputId": "84242f3a-e096-459d-f6bf-1923673a7ed9"
      },
      "execution_count": null,
      "outputs": [
        {
          "output_type": "stream",
          "name": "stdout",
          "text": [
            "/content/drive/Shared drives/NLP\n"
          ]
        }
      ]
    },
    {
      "cell_type": "code",
      "source": [
        "train = pd.read_csv('train.csv')\n",
        "train.head()"
      ],
      "metadata": {
        "colab": {
          "base_uri": "https://localhost:8080/",
          "height": 687
        },
        "id": "bg2pmMboSpEm",
        "outputId": "67a92957-b6d6-4dd0-eac2-bfe20e8ff506"
      },
      "execution_count": null,
      "outputs": [
        {
          "output_type": "execute_result",
          "data": {
            "text/plain": [
              "   id                              belongs_to_collection    budget  \\\n",
              "0   1  [{'id': 313576, 'name': 'Hot Tub Time Machine ...  14000000   \n",
              "1   2  [{'id': 107674, 'name': 'The Princess Diaries ...  40000000   \n",
              "2   3                                                NaN   3300000   \n",
              "3   4                                                NaN   1200000   \n",
              "4   5                                                NaN         0   \n",
              "\n",
              "                                              genres  \\\n",
              "0                     [{'id': 35, 'name': 'Comedy'}]   \n",
              "1  [{'id': 35, 'name': 'Comedy'}, {'id': 18, 'nam...   \n",
              "2                      [{'id': 18, 'name': 'Drama'}]   \n",
              "3  [{'id': 53, 'name': 'Thriller'}, {'id': 18, 'n...   \n",
              "4  [{'id': 28, 'name': 'Action'}, {'id': 53, 'nam...   \n",
              "\n",
              "                            homepage    imdb_id original_language  \\\n",
              "0                                NaN  tt2637294                en   \n",
              "1                                NaN  tt0368933                en   \n",
              "2  http://sonyclassics.com/whiplash/  tt2582802                en   \n",
              "3         http://kahaanithefilm.com/  tt1821480                hi   \n",
              "4                                NaN  tt1380152                ko   \n",
              "\n",
              "                             original_title  \\\n",
              "0                    Hot Tub Time Machine 2   \n",
              "1  The Princess Diaries 2: Royal Engagement   \n",
              "2                                  Whiplash   \n",
              "3                                   Kahaani   \n",
              "4                                      마린보이   \n",
              "\n",
              "                                            overview  popularity  \\\n",
              "0  When Lou, who has become the \"father of the In...    6.575393   \n",
              "1  Mia Thermopolis is now a college graduate and ...    8.248895   \n",
              "2  Under the direction of a ruthless instructor, ...   64.299990   \n",
              "3  Vidya Bagchi (Vidya Balan) arrives in Kolkata ...    3.174936   \n",
              "4  Marine Boy is the story of a former national s...    1.148070   \n",
              "\n",
              "                        poster_path  \\\n",
              "0  /tQtWuwvMf0hCc2QR2tkolwl7c3c.jpg   \n",
              "1  /w9Z7A0GHEhIp7etpj0vyKOeU1Wx.jpg   \n",
              "2  /lIv1QinFqz4dlp5U4lQ6HaiskOZ.jpg   \n",
              "3  /aTXRaPrWSinhcmCrcfJK17urp3F.jpg   \n",
              "4  /m22s7zvkVFDU9ir56PiiqIEWFdT.jpg   \n",
              "\n",
              "                                production_companies  \\\n",
              "0  [{'name': 'Paramount Pictures', 'id': 4}, {'na...   \n",
              "1        [{'name': 'Walt Disney Pictures', 'id': 2}]   \n",
              "2  [{'name': 'Bold Films', 'id': 2266}, {'name': ...   \n",
              "3                                                NaN   \n",
              "4                                                NaN   \n",
              "\n",
              "                                production_countries release_date  runtime  \\\n",
              "0  [{'iso_3166_1': 'US', 'name': 'United States o...      2/20/15     93.0   \n",
              "1  [{'iso_3166_1': 'US', 'name': 'United States o...       8/6/04    113.0   \n",
              "2  [{'iso_3166_1': 'US', 'name': 'United States o...     10/10/14    105.0   \n",
              "3            [{'iso_3166_1': 'IN', 'name': 'India'}]       3/9/12    122.0   \n",
              "4      [{'iso_3166_1': 'KR', 'name': 'South Korea'}]       2/5/09    118.0   \n",
              "\n",
              "                                    spoken_languages    status  \\\n",
              "0           [{'iso_639_1': 'en', 'name': 'English'}]  Released   \n",
              "1           [{'iso_639_1': 'en', 'name': 'English'}]  Released   \n",
              "2           [{'iso_639_1': 'en', 'name': 'English'}]  Released   \n",
              "3  [{'iso_639_1': 'en', 'name': 'English'}, {'iso...  Released   \n",
              "4           [{'iso_639_1': 'ko', 'name': '한국어/조선말'}]  Released   \n",
              "\n",
              "                                             tagline  \\\n",
              "0  The Laws of Space and Time are About to be Vio...   \n",
              "1  It can take a lifetime to find true love; she'...   \n",
              "2    The road to greatness can take you to the edge.   \n",
              "3                                                NaN   \n",
              "4                                                NaN   \n",
              "\n",
              "                                      title  \\\n",
              "0                    Hot Tub Time Machine 2   \n",
              "1  The Princess Diaries 2: Royal Engagement   \n",
              "2                                  Whiplash   \n",
              "3                                   Kahaani   \n",
              "4                                Marine Boy   \n",
              "\n",
              "                                            Keywords  \\\n",
              "0  [{'id': 4379, 'name': 'time travel'}, {'id': 9...   \n",
              "1  [{'id': 2505, 'name': 'coronation'}, {'id': 42...   \n",
              "2  [{'id': 1416, 'name': 'jazz'}, {'id': 1523, 'n...   \n",
              "3  [{'id': 10092, 'name': 'mystery'}, {'id': 1054...   \n",
              "4                                                NaN   \n",
              "\n",
              "                                                cast  \\\n",
              "0  [{'cast_id': 4, 'character': 'Lou', 'credit_id...   \n",
              "1  [{'cast_id': 1, 'character': 'Mia Thermopolis'...   \n",
              "2  [{'cast_id': 5, 'character': 'Andrew Neimann',...   \n",
              "3  [{'cast_id': 1, 'character': 'Vidya Bagchi', '...   \n",
              "4  [{'cast_id': 3, 'character': 'Chun-soo', 'cred...   \n",
              "\n",
              "                                                crew   revenue  \n",
              "0  [{'credit_id': '59ac067c92514107af02c8c8', 'de...  12314651  \n",
              "1  [{'credit_id': '52fe43fe9251416c7502563d', 'de...  95149435  \n",
              "2  [{'credit_id': '54d5356ec3a3683ba0000039', 'de...  13092000  \n",
              "3  [{'credit_id': '52fe48779251416c9108d6eb', 'de...  16000000  \n",
              "4  [{'credit_id': '52fe464b9251416c75073b43', 'de...   3923970  "
            ],
            "text/html": [
              "\n",
              "  <div id=\"df-618e5d56-dc4c-4c0c-ab36-7e82188ea537\">\n",
              "    <div class=\"colab-df-container\">\n",
              "      <div>\n",
              "<style scoped>\n",
              "    .dataframe tbody tr th:only-of-type {\n",
              "        vertical-align: middle;\n",
              "    }\n",
              "\n",
              "    .dataframe tbody tr th {\n",
              "        vertical-align: top;\n",
              "    }\n",
              "\n",
              "    .dataframe thead th {\n",
              "        text-align: right;\n",
              "    }\n",
              "</style>\n",
              "<table border=\"1\" class=\"dataframe\">\n",
              "  <thead>\n",
              "    <tr style=\"text-align: right;\">\n",
              "      <th></th>\n",
              "      <th>id</th>\n",
              "      <th>belongs_to_collection</th>\n",
              "      <th>budget</th>\n",
              "      <th>genres</th>\n",
              "      <th>homepage</th>\n",
              "      <th>imdb_id</th>\n",
              "      <th>original_language</th>\n",
              "      <th>original_title</th>\n",
              "      <th>overview</th>\n",
              "      <th>popularity</th>\n",
              "      <th>poster_path</th>\n",
              "      <th>production_companies</th>\n",
              "      <th>production_countries</th>\n",
              "      <th>release_date</th>\n",
              "      <th>runtime</th>\n",
              "      <th>spoken_languages</th>\n",
              "      <th>status</th>\n",
              "      <th>tagline</th>\n",
              "      <th>title</th>\n",
              "      <th>Keywords</th>\n",
              "      <th>cast</th>\n",
              "      <th>crew</th>\n",
              "      <th>revenue</th>\n",
              "    </tr>\n",
              "  </thead>\n",
              "  <tbody>\n",
              "    <tr>\n",
              "      <th>0</th>\n",
              "      <td>1</td>\n",
              "      <td>[{'id': 313576, 'name': 'Hot Tub Time Machine ...</td>\n",
              "      <td>14000000</td>\n",
              "      <td>[{'id': 35, 'name': 'Comedy'}]</td>\n",
              "      <td>NaN</td>\n",
              "      <td>tt2637294</td>\n",
              "      <td>en</td>\n",
              "      <td>Hot Tub Time Machine 2</td>\n",
              "      <td>When Lou, who has become the \"father of the In...</td>\n",
              "      <td>6.575393</td>\n",
              "      <td>/tQtWuwvMf0hCc2QR2tkolwl7c3c.jpg</td>\n",
              "      <td>[{'name': 'Paramount Pictures', 'id': 4}, {'na...</td>\n",
              "      <td>[{'iso_3166_1': 'US', 'name': 'United States o...</td>\n",
              "      <td>2/20/15</td>\n",
              "      <td>93.0</td>\n",
              "      <td>[{'iso_639_1': 'en', 'name': 'English'}]</td>\n",
              "      <td>Released</td>\n",
              "      <td>The Laws of Space and Time are About to be Vio...</td>\n",
              "      <td>Hot Tub Time Machine 2</td>\n",
              "      <td>[{'id': 4379, 'name': 'time travel'}, {'id': 9...</td>\n",
              "      <td>[{'cast_id': 4, 'character': 'Lou', 'credit_id...</td>\n",
              "      <td>[{'credit_id': '59ac067c92514107af02c8c8', 'de...</td>\n",
              "      <td>12314651</td>\n",
              "    </tr>\n",
              "    <tr>\n",
              "      <th>1</th>\n",
              "      <td>2</td>\n",
              "      <td>[{'id': 107674, 'name': 'The Princess Diaries ...</td>\n",
              "      <td>40000000</td>\n",
              "      <td>[{'id': 35, 'name': 'Comedy'}, {'id': 18, 'nam...</td>\n",
              "      <td>NaN</td>\n",
              "      <td>tt0368933</td>\n",
              "      <td>en</td>\n",
              "      <td>The Princess Diaries 2: Royal Engagement</td>\n",
              "      <td>Mia Thermopolis is now a college graduate and ...</td>\n",
              "      <td>8.248895</td>\n",
              "      <td>/w9Z7A0GHEhIp7etpj0vyKOeU1Wx.jpg</td>\n",
              "      <td>[{'name': 'Walt Disney Pictures', 'id': 2}]</td>\n",
              "      <td>[{'iso_3166_1': 'US', 'name': 'United States o...</td>\n",
              "      <td>8/6/04</td>\n",
              "      <td>113.0</td>\n",
              "      <td>[{'iso_639_1': 'en', 'name': 'English'}]</td>\n",
              "      <td>Released</td>\n",
              "      <td>It can take a lifetime to find true love; she'...</td>\n",
              "      <td>The Princess Diaries 2: Royal Engagement</td>\n",
              "      <td>[{'id': 2505, 'name': 'coronation'}, {'id': 42...</td>\n",
              "      <td>[{'cast_id': 1, 'character': 'Mia Thermopolis'...</td>\n",
              "      <td>[{'credit_id': '52fe43fe9251416c7502563d', 'de...</td>\n",
              "      <td>95149435</td>\n",
              "    </tr>\n",
              "    <tr>\n",
              "      <th>2</th>\n",
              "      <td>3</td>\n",
              "      <td>NaN</td>\n",
              "      <td>3300000</td>\n",
              "      <td>[{'id': 18, 'name': 'Drama'}]</td>\n",
              "      <td>http://sonyclassics.com/whiplash/</td>\n",
              "      <td>tt2582802</td>\n",
              "      <td>en</td>\n",
              "      <td>Whiplash</td>\n",
              "      <td>Under the direction of a ruthless instructor, ...</td>\n",
              "      <td>64.299990</td>\n",
              "      <td>/lIv1QinFqz4dlp5U4lQ6HaiskOZ.jpg</td>\n",
              "      <td>[{'name': 'Bold Films', 'id': 2266}, {'name': ...</td>\n",
              "      <td>[{'iso_3166_1': 'US', 'name': 'United States o...</td>\n",
              "      <td>10/10/14</td>\n",
              "      <td>105.0</td>\n",
              "      <td>[{'iso_639_1': 'en', 'name': 'English'}]</td>\n",
              "      <td>Released</td>\n",
              "      <td>The road to greatness can take you to the edge.</td>\n",
              "      <td>Whiplash</td>\n",
              "      <td>[{'id': 1416, 'name': 'jazz'}, {'id': 1523, 'n...</td>\n",
              "      <td>[{'cast_id': 5, 'character': 'Andrew Neimann',...</td>\n",
              "      <td>[{'credit_id': '54d5356ec3a3683ba0000039', 'de...</td>\n",
              "      <td>13092000</td>\n",
              "    </tr>\n",
              "    <tr>\n",
              "      <th>3</th>\n",
              "      <td>4</td>\n",
              "      <td>NaN</td>\n",
              "      <td>1200000</td>\n",
              "      <td>[{'id': 53, 'name': 'Thriller'}, {'id': 18, 'n...</td>\n",
              "      <td>http://kahaanithefilm.com/</td>\n",
              "      <td>tt1821480</td>\n",
              "      <td>hi</td>\n",
              "      <td>Kahaani</td>\n",
              "      <td>Vidya Bagchi (Vidya Balan) arrives in Kolkata ...</td>\n",
              "      <td>3.174936</td>\n",
              "      <td>/aTXRaPrWSinhcmCrcfJK17urp3F.jpg</td>\n",
              "      <td>NaN</td>\n",
              "      <td>[{'iso_3166_1': 'IN', 'name': 'India'}]</td>\n",
              "      <td>3/9/12</td>\n",
              "      <td>122.0</td>\n",
              "      <td>[{'iso_639_1': 'en', 'name': 'English'}, {'iso...</td>\n",
              "      <td>Released</td>\n",
              "      <td>NaN</td>\n",
              "      <td>Kahaani</td>\n",
              "      <td>[{'id': 10092, 'name': 'mystery'}, {'id': 1054...</td>\n",
              "      <td>[{'cast_id': 1, 'character': 'Vidya Bagchi', '...</td>\n",
              "      <td>[{'credit_id': '52fe48779251416c9108d6eb', 'de...</td>\n",
              "      <td>16000000</td>\n",
              "    </tr>\n",
              "    <tr>\n",
              "      <th>4</th>\n",
              "      <td>5</td>\n",
              "      <td>NaN</td>\n",
              "      <td>0</td>\n",
              "      <td>[{'id': 28, 'name': 'Action'}, {'id': 53, 'nam...</td>\n",
              "      <td>NaN</td>\n",
              "      <td>tt1380152</td>\n",
              "      <td>ko</td>\n",
              "      <td>마린보이</td>\n",
              "      <td>Marine Boy is the story of a former national s...</td>\n",
              "      <td>1.148070</td>\n",
              "      <td>/m22s7zvkVFDU9ir56PiiqIEWFdT.jpg</td>\n",
              "      <td>NaN</td>\n",
              "      <td>[{'iso_3166_1': 'KR', 'name': 'South Korea'}]</td>\n",
              "      <td>2/5/09</td>\n",
              "      <td>118.0</td>\n",
              "      <td>[{'iso_639_1': 'ko', 'name': '한국어/조선말'}]</td>\n",
              "      <td>Released</td>\n",
              "      <td>NaN</td>\n",
              "      <td>Marine Boy</td>\n",
              "      <td>NaN</td>\n",
              "      <td>[{'cast_id': 3, 'character': 'Chun-soo', 'cred...</td>\n",
              "      <td>[{'credit_id': '52fe464b9251416c75073b43', 'de...</td>\n",
              "      <td>3923970</td>\n",
              "    </tr>\n",
              "  </tbody>\n",
              "</table>\n",
              "</div>\n",
              "      <button class=\"colab-df-convert\" onclick=\"convertToInteractive('df-618e5d56-dc4c-4c0c-ab36-7e82188ea537')\"\n",
              "              title=\"Convert this dataframe to an interactive table.\"\n",
              "              style=\"display:none;\">\n",
              "        \n",
              "  <svg xmlns=\"http://www.w3.org/2000/svg\" height=\"24px\"viewBox=\"0 0 24 24\"\n",
              "       width=\"24px\">\n",
              "    <path d=\"M0 0h24v24H0V0z\" fill=\"none\"/>\n",
              "    <path d=\"M18.56 5.44l.94 2.06.94-2.06 2.06-.94-2.06-.94-.94-2.06-.94 2.06-2.06.94zm-11 1L8.5 8.5l.94-2.06 2.06-.94-2.06-.94L8.5 2.5l-.94 2.06-2.06.94zm10 10l.94 2.06.94-2.06 2.06-.94-2.06-.94-.94-2.06-.94 2.06-2.06.94z\"/><path d=\"M17.41 7.96l-1.37-1.37c-.4-.4-.92-.59-1.43-.59-.52 0-1.04.2-1.43.59L10.3 9.45l-7.72 7.72c-.78.78-.78 2.05 0 2.83L4 21.41c.39.39.9.59 1.41.59.51 0 1.02-.2 1.41-.59l7.78-7.78 2.81-2.81c.8-.78.8-2.07 0-2.86zM5.41 20L4 18.59l7.72-7.72 1.47 1.35L5.41 20z\"/>\n",
              "  </svg>\n",
              "      </button>\n",
              "      \n",
              "  <style>\n",
              "    .colab-df-container {\n",
              "      display:flex;\n",
              "      flex-wrap:wrap;\n",
              "      gap: 12px;\n",
              "    }\n",
              "\n",
              "    .colab-df-convert {\n",
              "      background-color: #E8F0FE;\n",
              "      border: none;\n",
              "      border-radius: 50%;\n",
              "      cursor: pointer;\n",
              "      display: none;\n",
              "      fill: #1967D2;\n",
              "      height: 32px;\n",
              "      padding: 0 0 0 0;\n",
              "      width: 32px;\n",
              "    }\n",
              "\n",
              "    .colab-df-convert:hover {\n",
              "      background-color: #E2EBFA;\n",
              "      box-shadow: 0px 1px 2px rgba(60, 64, 67, 0.3), 0px 1px 3px 1px rgba(60, 64, 67, 0.15);\n",
              "      fill: #174EA6;\n",
              "    }\n",
              "\n",
              "    [theme=dark] .colab-df-convert {\n",
              "      background-color: #3B4455;\n",
              "      fill: #D2E3FC;\n",
              "    }\n",
              "\n",
              "    [theme=dark] .colab-df-convert:hover {\n",
              "      background-color: #434B5C;\n",
              "      box-shadow: 0px 1px 3px 1px rgba(0, 0, 0, 0.15);\n",
              "      filter: drop-shadow(0px 1px 2px rgba(0, 0, 0, 0.3));\n",
              "      fill: #FFFFFF;\n",
              "    }\n",
              "  </style>\n",
              "\n",
              "      <script>\n",
              "        const buttonEl =\n",
              "          document.querySelector('#df-618e5d56-dc4c-4c0c-ab36-7e82188ea537 button.colab-df-convert');\n",
              "        buttonEl.style.display =\n",
              "          google.colab.kernel.accessAllowed ? 'block' : 'none';\n",
              "\n",
              "        async function convertToInteractive(key) {\n",
              "          const element = document.querySelector('#df-618e5d56-dc4c-4c0c-ab36-7e82188ea537');\n",
              "          const dataTable =\n",
              "            await google.colab.kernel.invokeFunction('convertToInteractive',\n",
              "                                                     [key], {});\n",
              "          if (!dataTable) return;\n",
              "\n",
              "          const docLinkHtml = 'Like what you see? Visit the ' +\n",
              "            '<a target=\"_blank\" href=https://colab.research.google.com/notebooks/data_table.ipynb>data table notebook</a>'\n",
              "            + ' to learn more about interactive tables.';\n",
              "          element.innerHTML = '';\n",
              "          dataTable['output_type'] = 'display_data';\n",
              "          await google.colab.output.renderOutput(dataTable, element);\n",
              "          const docLink = document.createElement('div');\n",
              "          docLink.innerHTML = docLinkHtml;\n",
              "          element.appendChild(docLink);\n",
              "        }\n",
              "      </script>\n",
              "    </div>\n",
              "  </div>\n",
              "  "
            ]
          },
          "metadata": {},
          "execution_count": 7
        }
      ]
    },
    {
      "cell_type": "code",
      "source": [
        "dict_columns = ['belongs_to_collection', 'genres', 'production_companies',\n",
        "                'production_countries', 'spoken_languages', 'Keywords', 'cast', 'crew']\n",
        "\n",
        "def text_to_dict(df):\n",
        "    for column in dict_columns:\n",
        "        df[column] = df[column].apply(lambda x: {} if pd.isna(x) else ast.literal_eval(x) )\n",
        "    return df\n",
        "        \n",
        "train = text_to_dict(train)\n",
        "#test = text_to_dict(test)"
      ],
      "metadata": {
        "id": "ufA_fPHQY4Qh"
      },
      "execution_count": null,
      "outputs": []
    },
    {
      "cell_type": "code",
      "source": [
        "x = train['crew'][0]\n",
        "#json_x = json.loads(x)\n",
        "#json_x\n",
        "train.head()"
      ],
      "metadata": {
        "id": "93e9b6OJThcv",
        "colab": {
          "base_uri": "https://localhost:8080/",
          "height": 687
        },
        "outputId": "e225257b-7688-47e1-8e91-c04f332015cf"
      },
      "execution_count": null,
      "outputs": [
        {
          "output_type": "execute_result",
          "data": {
            "text/plain": [
              "   id                              belongs_to_collection    budget  \\\n",
              "0   1  [{'id': 313576, 'name': 'Hot Tub Time Machine ...  14000000   \n",
              "1   2  [{'id': 107674, 'name': 'The Princess Diaries ...  40000000   \n",
              "2   3                                                 {}   3300000   \n",
              "3   4                                                 {}   1200000   \n",
              "4   5                                                 {}         0   \n",
              "\n",
              "                                              genres  \\\n",
              "0                     [{'id': 35, 'name': 'Comedy'}]   \n",
              "1  [{'id': 35, 'name': 'Comedy'}, {'id': 18, 'nam...   \n",
              "2                      [{'id': 18, 'name': 'Drama'}]   \n",
              "3  [{'id': 53, 'name': 'Thriller'}, {'id': 18, 'n...   \n",
              "4  [{'id': 28, 'name': 'Action'}, {'id': 53, 'nam...   \n",
              "\n",
              "                            homepage    imdb_id original_language  \\\n",
              "0                                NaN  tt2637294                en   \n",
              "1                                NaN  tt0368933                en   \n",
              "2  http://sonyclassics.com/whiplash/  tt2582802                en   \n",
              "3         http://kahaanithefilm.com/  tt1821480                hi   \n",
              "4                                NaN  tt1380152                ko   \n",
              "\n",
              "                             original_title  \\\n",
              "0                    Hot Tub Time Machine 2   \n",
              "1  The Princess Diaries 2: Royal Engagement   \n",
              "2                                  Whiplash   \n",
              "3                                   Kahaani   \n",
              "4                                      마린보이   \n",
              "\n",
              "                                            overview  popularity  \\\n",
              "0  When Lou, who has become the \"father of the In...    6.575393   \n",
              "1  Mia Thermopolis is now a college graduate and ...    8.248895   \n",
              "2  Under the direction of a ruthless instructor, ...   64.299990   \n",
              "3  Vidya Bagchi (Vidya Balan) arrives in Kolkata ...    3.174936   \n",
              "4  Marine Boy is the story of a former national s...    1.148070   \n",
              "\n",
              "                        poster_path  \\\n",
              "0  /tQtWuwvMf0hCc2QR2tkolwl7c3c.jpg   \n",
              "1  /w9Z7A0GHEhIp7etpj0vyKOeU1Wx.jpg   \n",
              "2  /lIv1QinFqz4dlp5U4lQ6HaiskOZ.jpg   \n",
              "3  /aTXRaPrWSinhcmCrcfJK17urp3F.jpg   \n",
              "4  /m22s7zvkVFDU9ir56PiiqIEWFdT.jpg   \n",
              "\n",
              "                                production_companies  \\\n",
              "0  [{'name': 'Paramount Pictures', 'id': 4}, {'na...   \n",
              "1        [{'name': 'Walt Disney Pictures', 'id': 2}]   \n",
              "2  [{'name': 'Bold Films', 'id': 2266}, {'name': ...   \n",
              "3                                                 {}   \n",
              "4                                                 {}   \n",
              "\n",
              "                                production_countries release_date  runtime  \\\n",
              "0  [{'iso_3166_1': 'US', 'name': 'United States o...      2/20/15     93.0   \n",
              "1  [{'iso_3166_1': 'US', 'name': 'United States o...       8/6/04    113.0   \n",
              "2  [{'iso_3166_1': 'US', 'name': 'United States o...     10/10/14    105.0   \n",
              "3            [{'iso_3166_1': 'IN', 'name': 'India'}]       3/9/12    122.0   \n",
              "4      [{'iso_3166_1': 'KR', 'name': 'South Korea'}]       2/5/09    118.0   \n",
              "\n",
              "                                    spoken_languages    status  \\\n",
              "0           [{'iso_639_1': 'en', 'name': 'English'}]  Released   \n",
              "1           [{'iso_639_1': 'en', 'name': 'English'}]  Released   \n",
              "2           [{'iso_639_1': 'en', 'name': 'English'}]  Released   \n",
              "3  [{'iso_639_1': 'en', 'name': 'English'}, {'iso...  Released   \n",
              "4           [{'iso_639_1': 'ko', 'name': '한국어/조선말'}]  Released   \n",
              "\n",
              "                                             tagline  \\\n",
              "0  The Laws of Space and Time are About to be Vio...   \n",
              "1  It can take a lifetime to find true love; she'...   \n",
              "2    The road to greatness can take you to the edge.   \n",
              "3                                                NaN   \n",
              "4                                                NaN   \n",
              "\n",
              "                                      title  \\\n",
              "0                    Hot Tub Time Machine 2   \n",
              "1  The Princess Diaries 2: Royal Engagement   \n",
              "2                                  Whiplash   \n",
              "3                                   Kahaani   \n",
              "4                                Marine Boy   \n",
              "\n",
              "                                            Keywords  \\\n",
              "0  [{'id': 4379, 'name': 'time travel'}, {'id': 9...   \n",
              "1  [{'id': 2505, 'name': 'coronation'}, {'id': 42...   \n",
              "2  [{'id': 1416, 'name': 'jazz'}, {'id': 1523, 'n...   \n",
              "3  [{'id': 10092, 'name': 'mystery'}, {'id': 1054...   \n",
              "4                                                 {}   \n",
              "\n",
              "                                                cast  \\\n",
              "0  [{'cast_id': 4, 'character': 'Lou', 'credit_id...   \n",
              "1  [{'cast_id': 1, 'character': 'Mia Thermopolis'...   \n",
              "2  [{'cast_id': 5, 'character': 'Andrew Neimann',...   \n",
              "3  [{'cast_id': 1, 'character': 'Vidya Bagchi', '...   \n",
              "4  [{'cast_id': 3, 'character': 'Chun-soo', 'cred...   \n",
              "\n",
              "                                                crew   revenue  \n",
              "0  [{'credit_id': '59ac067c92514107af02c8c8', 'de...  12314651  \n",
              "1  [{'credit_id': '52fe43fe9251416c7502563d', 'de...  95149435  \n",
              "2  [{'credit_id': '54d5356ec3a3683ba0000039', 'de...  13092000  \n",
              "3  [{'credit_id': '52fe48779251416c9108d6eb', 'de...  16000000  \n",
              "4  [{'credit_id': '52fe464b9251416c75073b43', 'de...   3923970  "
            ],
            "text/html": [
              "\n",
              "  <div id=\"df-61d52d57-67c6-43a2-9397-87d3e9647d2d\">\n",
              "    <div class=\"colab-df-container\">\n",
              "      <div>\n",
              "<style scoped>\n",
              "    .dataframe tbody tr th:only-of-type {\n",
              "        vertical-align: middle;\n",
              "    }\n",
              "\n",
              "    .dataframe tbody tr th {\n",
              "        vertical-align: top;\n",
              "    }\n",
              "\n",
              "    .dataframe thead th {\n",
              "        text-align: right;\n",
              "    }\n",
              "</style>\n",
              "<table border=\"1\" class=\"dataframe\">\n",
              "  <thead>\n",
              "    <tr style=\"text-align: right;\">\n",
              "      <th></th>\n",
              "      <th>id</th>\n",
              "      <th>belongs_to_collection</th>\n",
              "      <th>budget</th>\n",
              "      <th>genres</th>\n",
              "      <th>homepage</th>\n",
              "      <th>imdb_id</th>\n",
              "      <th>original_language</th>\n",
              "      <th>original_title</th>\n",
              "      <th>overview</th>\n",
              "      <th>popularity</th>\n",
              "      <th>poster_path</th>\n",
              "      <th>production_companies</th>\n",
              "      <th>production_countries</th>\n",
              "      <th>release_date</th>\n",
              "      <th>runtime</th>\n",
              "      <th>spoken_languages</th>\n",
              "      <th>status</th>\n",
              "      <th>tagline</th>\n",
              "      <th>title</th>\n",
              "      <th>Keywords</th>\n",
              "      <th>cast</th>\n",
              "      <th>crew</th>\n",
              "      <th>revenue</th>\n",
              "    </tr>\n",
              "  </thead>\n",
              "  <tbody>\n",
              "    <tr>\n",
              "      <th>0</th>\n",
              "      <td>1</td>\n",
              "      <td>[{'id': 313576, 'name': 'Hot Tub Time Machine ...</td>\n",
              "      <td>14000000</td>\n",
              "      <td>[{'id': 35, 'name': 'Comedy'}]</td>\n",
              "      <td>NaN</td>\n",
              "      <td>tt2637294</td>\n",
              "      <td>en</td>\n",
              "      <td>Hot Tub Time Machine 2</td>\n",
              "      <td>When Lou, who has become the \"father of the In...</td>\n",
              "      <td>6.575393</td>\n",
              "      <td>/tQtWuwvMf0hCc2QR2tkolwl7c3c.jpg</td>\n",
              "      <td>[{'name': 'Paramount Pictures', 'id': 4}, {'na...</td>\n",
              "      <td>[{'iso_3166_1': 'US', 'name': 'United States o...</td>\n",
              "      <td>2/20/15</td>\n",
              "      <td>93.0</td>\n",
              "      <td>[{'iso_639_1': 'en', 'name': 'English'}]</td>\n",
              "      <td>Released</td>\n",
              "      <td>The Laws of Space and Time are About to be Vio...</td>\n",
              "      <td>Hot Tub Time Machine 2</td>\n",
              "      <td>[{'id': 4379, 'name': 'time travel'}, {'id': 9...</td>\n",
              "      <td>[{'cast_id': 4, 'character': 'Lou', 'credit_id...</td>\n",
              "      <td>[{'credit_id': '59ac067c92514107af02c8c8', 'de...</td>\n",
              "      <td>12314651</td>\n",
              "    </tr>\n",
              "    <tr>\n",
              "      <th>1</th>\n",
              "      <td>2</td>\n",
              "      <td>[{'id': 107674, 'name': 'The Princess Diaries ...</td>\n",
              "      <td>40000000</td>\n",
              "      <td>[{'id': 35, 'name': 'Comedy'}, {'id': 18, 'nam...</td>\n",
              "      <td>NaN</td>\n",
              "      <td>tt0368933</td>\n",
              "      <td>en</td>\n",
              "      <td>The Princess Diaries 2: Royal Engagement</td>\n",
              "      <td>Mia Thermopolis is now a college graduate and ...</td>\n",
              "      <td>8.248895</td>\n",
              "      <td>/w9Z7A0GHEhIp7etpj0vyKOeU1Wx.jpg</td>\n",
              "      <td>[{'name': 'Walt Disney Pictures', 'id': 2}]</td>\n",
              "      <td>[{'iso_3166_1': 'US', 'name': 'United States o...</td>\n",
              "      <td>8/6/04</td>\n",
              "      <td>113.0</td>\n",
              "      <td>[{'iso_639_1': 'en', 'name': 'English'}]</td>\n",
              "      <td>Released</td>\n",
              "      <td>It can take a lifetime to find true love; she'...</td>\n",
              "      <td>The Princess Diaries 2: Royal Engagement</td>\n",
              "      <td>[{'id': 2505, 'name': 'coronation'}, {'id': 42...</td>\n",
              "      <td>[{'cast_id': 1, 'character': 'Mia Thermopolis'...</td>\n",
              "      <td>[{'credit_id': '52fe43fe9251416c7502563d', 'de...</td>\n",
              "      <td>95149435</td>\n",
              "    </tr>\n",
              "    <tr>\n",
              "      <th>2</th>\n",
              "      <td>3</td>\n",
              "      <td>{}</td>\n",
              "      <td>3300000</td>\n",
              "      <td>[{'id': 18, 'name': 'Drama'}]</td>\n",
              "      <td>http://sonyclassics.com/whiplash/</td>\n",
              "      <td>tt2582802</td>\n",
              "      <td>en</td>\n",
              "      <td>Whiplash</td>\n",
              "      <td>Under the direction of a ruthless instructor, ...</td>\n",
              "      <td>64.299990</td>\n",
              "      <td>/lIv1QinFqz4dlp5U4lQ6HaiskOZ.jpg</td>\n",
              "      <td>[{'name': 'Bold Films', 'id': 2266}, {'name': ...</td>\n",
              "      <td>[{'iso_3166_1': 'US', 'name': 'United States o...</td>\n",
              "      <td>10/10/14</td>\n",
              "      <td>105.0</td>\n",
              "      <td>[{'iso_639_1': 'en', 'name': 'English'}]</td>\n",
              "      <td>Released</td>\n",
              "      <td>The road to greatness can take you to the edge.</td>\n",
              "      <td>Whiplash</td>\n",
              "      <td>[{'id': 1416, 'name': 'jazz'}, {'id': 1523, 'n...</td>\n",
              "      <td>[{'cast_id': 5, 'character': 'Andrew Neimann',...</td>\n",
              "      <td>[{'credit_id': '54d5356ec3a3683ba0000039', 'de...</td>\n",
              "      <td>13092000</td>\n",
              "    </tr>\n",
              "    <tr>\n",
              "      <th>3</th>\n",
              "      <td>4</td>\n",
              "      <td>{}</td>\n",
              "      <td>1200000</td>\n",
              "      <td>[{'id': 53, 'name': 'Thriller'}, {'id': 18, 'n...</td>\n",
              "      <td>http://kahaanithefilm.com/</td>\n",
              "      <td>tt1821480</td>\n",
              "      <td>hi</td>\n",
              "      <td>Kahaani</td>\n",
              "      <td>Vidya Bagchi (Vidya Balan) arrives in Kolkata ...</td>\n",
              "      <td>3.174936</td>\n",
              "      <td>/aTXRaPrWSinhcmCrcfJK17urp3F.jpg</td>\n",
              "      <td>{}</td>\n",
              "      <td>[{'iso_3166_1': 'IN', 'name': 'India'}]</td>\n",
              "      <td>3/9/12</td>\n",
              "      <td>122.0</td>\n",
              "      <td>[{'iso_639_1': 'en', 'name': 'English'}, {'iso...</td>\n",
              "      <td>Released</td>\n",
              "      <td>NaN</td>\n",
              "      <td>Kahaani</td>\n",
              "      <td>[{'id': 10092, 'name': 'mystery'}, {'id': 1054...</td>\n",
              "      <td>[{'cast_id': 1, 'character': 'Vidya Bagchi', '...</td>\n",
              "      <td>[{'credit_id': '52fe48779251416c9108d6eb', 'de...</td>\n",
              "      <td>16000000</td>\n",
              "    </tr>\n",
              "    <tr>\n",
              "      <th>4</th>\n",
              "      <td>5</td>\n",
              "      <td>{}</td>\n",
              "      <td>0</td>\n",
              "      <td>[{'id': 28, 'name': 'Action'}, {'id': 53, 'nam...</td>\n",
              "      <td>NaN</td>\n",
              "      <td>tt1380152</td>\n",
              "      <td>ko</td>\n",
              "      <td>마린보이</td>\n",
              "      <td>Marine Boy is the story of a former national s...</td>\n",
              "      <td>1.148070</td>\n",
              "      <td>/m22s7zvkVFDU9ir56PiiqIEWFdT.jpg</td>\n",
              "      <td>{}</td>\n",
              "      <td>[{'iso_3166_1': 'KR', 'name': 'South Korea'}]</td>\n",
              "      <td>2/5/09</td>\n",
              "      <td>118.0</td>\n",
              "      <td>[{'iso_639_1': 'ko', 'name': '한국어/조선말'}]</td>\n",
              "      <td>Released</td>\n",
              "      <td>NaN</td>\n",
              "      <td>Marine Boy</td>\n",
              "      <td>{}</td>\n",
              "      <td>[{'cast_id': 3, 'character': 'Chun-soo', 'cred...</td>\n",
              "      <td>[{'credit_id': '52fe464b9251416c75073b43', 'de...</td>\n",
              "      <td>3923970</td>\n",
              "    </tr>\n",
              "  </tbody>\n",
              "</table>\n",
              "</div>\n",
              "      <button class=\"colab-df-convert\" onclick=\"convertToInteractive('df-61d52d57-67c6-43a2-9397-87d3e9647d2d')\"\n",
              "              title=\"Convert this dataframe to an interactive table.\"\n",
              "              style=\"display:none;\">\n",
              "        \n",
              "  <svg xmlns=\"http://www.w3.org/2000/svg\" height=\"24px\"viewBox=\"0 0 24 24\"\n",
              "       width=\"24px\">\n",
              "    <path d=\"M0 0h24v24H0V0z\" fill=\"none\"/>\n",
              "    <path d=\"M18.56 5.44l.94 2.06.94-2.06 2.06-.94-2.06-.94-.94-2.06-.94 2.06-2.06.94zm-11 1L8.5 8.5l.94-2.06 2.06-.94-2.06-.94L8.5 2.5l-.94 2.06-2.06.94zm10 10l.94 2.06.94-2.06 2.06-.94-2.06-.94-.94-2.06-.94 2.06-2.06.94z\"/><path d=\"M17.41 7.96l-1.37-1.37c-.4-.4-.92-.59-1.43-.59-.52 0-1.04.2-1.43.59L10.3 9.45l-7.72 7.72c-.78.78-.78 2.05 0 2.83L4 21.41c.39.39.9.59 1.41.59.51 0 1.02-.2 1.41-.59l7.78-7.78 2.81-2.81c.8-.78.8-2.07 0-2.86zM5.41 20L4 18.59l7.72-7.72 1.47 1.35L5.41 20z\"/>\n",
              "  </svg>\n",
              "      </button>\n",
              "      \n",
              "  <style>\n",
              "    .colab-df-container {\n",
              "      display:flex;\n",
              "      flex-wrap:wrap;\n",
              "      gap: 12px;\n",
              "    }\n",
              "\n",
              "    .colab-df-convert {\n",
              "      background-color: #E8F0FE;\n",
              "      border: none;\n",
              "      border-radius: 50%;\n",
              "      cursor: pointer;\n",
              "      display: none;\n",
              "      fill: #1967D2;\n",
              "      height: 32px;\n",
              "      padding: 0 0 0 0;\n",
              "      width: 32px;\n",
              "    }\n",
              "\n",
              "    .colab-df-convert:hover {\n",
              "      background-color: #E2EBFA;\n",
              "      box-shadow: 0px 1px 2px rgba(60, 64, 67, 0.3), 0px 1px 3px 1px rgba(60, 64, 67, 0.15);\n",
              "      fill: #174EA6;\n",
              "    }\n",
              "\n",
              "    [theme=dark] .colab-df-convert {\n",
              "      background-color: #3B4455;\n",
              "      fill: #D2E3FC;\n",
              "    }\n",
              "\n",
              "    [theme=dark] .colab-df-convert:hover {\n",
              "      background-color: #434B5C;\n",
              "      box-shadow: 0px 1px 3px 1px rgba(0, 0, 0, 0.15);\n",
              "      filter: drop-shadow(0px 1px 2px rgba(0, 0, 0, 0.3));\n",
              "      fill: #FFFFFF;\n",
              "    }\n",
              "  </style>\n",
              "\n",
              "      <script>\n",
              "        const buttonEl =\n",
              "          document.querySelector('#df-61d52d57-67c6-43a2-9397-87d3e9647d2d button.colab-df-convert');\n",
              "        buttonEl.style.display =\n",
              "          google.colab.kernel.accessAllowed ? 'block' : 'none';\n",
              "\n",
              "        async function convertToInteractive(key) {\n",
              "          const element = document.querySelector('#df-61d52d57-67c6-43a2-9397-87d3e9647d2d');\n",
              "          const dataTable =\n",
              "            await google.colab.kernel.invokeFunction('convertToInteractive',\n",
              "                                                     [key], {});\n",
              "          if (!dataTable) return;\n",
              "\n",
              "          const docLinkHtml = 'Like what you see? Visit the ' +\n",
              "            '<a target=\"_blank\" href=https://colab.research.google.com/notebooks/data_table.ipynb>data table notebook</a>'\n",
              "            + ' to learn more about interactive tables.';\n",
              "          element.innerHTML = '';\n",
              "          dataTable['output_type'] = 'display_data';\n",
              "          await google.colab.output.renderOutput(dataTable, element);\n",
              "          const docLink = document.createElement('div');\n",
              "          docLink.innerHTML = docLinkHtml;\n",
              "          element.appendChild(docLink);\n",
              "        }\n",
              "      </script>\n",
              "    </div>\n",
              "  </div>\n",
              "  "
            ]
          },
          "metadata": {},
          "execution_count": 9
        }
      ]
    },
    {
      "cell_type": "code",
      "source": [
        "x = train['crew'][0]\n",
        "#json_x = json.loads(x)\n",
        "#json_x\n",
        "type(x)"
      ],
      "metadata": {
        "id": "jD8_bMEvXWW4",
        "colab": {
          "base_uri": "https://localhost:8080/"
        },
        "outputId": "7af2b517-48ba-4ea0-947e-b0b8f9a4e63d"
      },
      "execution_count": null,
      "outputs": [
        {
          "output_type": "execute_result",
          "data": {
            "text/plain": [
              "list"
            ]
          },
          "metadata": {},
          "execution_count": 10
        }
      ]
    },
    {
      "cell_type": "code",
      "source": [
        "x[1]"
      ],
      "metadata": {
        "colab": {
          "base_uri": "https://localhost:8080/"
        },
        "id": "782PhBqDZqkP",
        "outputId": "ee1f0ce7-e9fb-4c09-d245-2dcde6eea53b"
      },
      "execution_count": null,
      "outputs": [
        {
          "output_type": "execute_result",
          "data": {
            "text/plain": [
              "{'credit_id': '52fe4ee7c3a36847f82afad7',\n",
              " 'department': 'Directing',\n",
              " 'gender': 2,\n",
              " 'id': 3227,\n",
              " 'job': 'Director',\n",
              " 'name': 'Steve Pink',\n",
              " 'profile_path': '/myHOgo8mQSCiCAZNGMRdHVr03jr.jpg'}"
            ]
          },
          "metadata": {},
          "execution_count": 11
        }
      ]
    },
    {
      "cell_type": "code",
      "source": [
        "train['cast'][0]"
      ],
      "metadata": {
        "colab": {
          "base_uri": "https://localhost:8080/"
        },
        "id": "gNjCOsJ5Zrlk",
        "outputId": "82fb2fab-e897-450b-8ae7-a305c9a764d2"
      },
      "execution_count": null,
      "outputs": [
        {
          "output_type": "execute_result",
          "data": {
            "text/plain": [
              "[{'cast_id': 4,\n",
              "  'character': 'Lou',\n",
              "  'credit_id': '52fe4ee7c3a36847f82afae7',\n",
              "  'gender': 2,\n",
              "  'id': 52997,\n",
              "  'name': 'Rob Corddry',\n",
              "  'order': 0,\n",
              "  'profile_path': '/k2zJL0V1nEZuFT08xUdOd3ucfXz.jpg'},\n",
              " {'cast_id': 5,\n",
              "  'character': 'Nick',\n",
              "  'credit_id': '52fe4ee7c3a36847f82afaeb',\n",
              "  'gender': 2,\n",
              "  'id': 64342,\n",
              "  'name': 'Craig Robinson',\n",
              "  'order': 1,\n",
              "  'profile_path': '/tVaRMkJXOEVhYxtnnFuhqW0Rjzz.jpg'},\n",
              " {'cast_id': 6,\n",
              "  'character': 'Jacob',\n",
              "  'credit_id': '52fe4ee7c3a36847f82afaef',\n",
              "  'gender': 2,\n",
              "  'id': 54729,\n",
              "  'name': 'Clark Duke',\n",
              "  'order': 2,\n",
              "  'profile_path': '/oNzK0umwm5Wn0wyEbOy6TVJCSBn.jpg'},\n",
              " {'cast_id': 7,\n",
              "  'character': 'Adam Jr.',\n",
              "  'credit_id': '52fe4ee7c3a36847f82afaf3',\n",
              "  'gender': 2,\n",
              "  'id': 36801,\n",
              "  'name': 'Adam Scott',\n",
              "  'order': 3,\n",
              "  'profile_path': '/5gb65xz8bzd42yjMAl4zwo4cvKw.jpg'},\n",
              " {'cast_id': 8,\n",
              "  'character': 'Hot Tub Repairman',\n",
              "  'credit_id': '52fe4ee7c3a36847f82afaf7',\n",
              "  'gender': 2,\n",
              "  'id': 54812,\n",
              "  'name': 'Chevy Chase',\n",
              "  'order': 4,\n",
              "  'profile_path': '/svjpyYtPwtjvRxX9IZnOmOkhDOt.jpg'},\n",
              " {'cast_id': 9,\n",
              "  'character': 'Jill',\n",
              "  'credit_id': '52fe4ee7c3a36847f82afafb',\n",
              "  'gender': 1,\n",
              "  'id': 94098,\n",
              "  'name': 'Gillian Jacobs',\n",
              "  'order': 5,\n",
              "  'profile_path': '/rBnhe5vhNPnhRUdtYahBWx90fJM.jpg'},\n",
              " {'cast_id': 10,\n",
              "  'character': 'Sophie',\n",
              "  'credit_id': '52fe4ee7c3a36847f82afaff',\n",
              "  'gender': 1,\n",
              "  'id': 1159009,\n",
              "  'name': 'Bianca Haase',\n",
              "  'order': 6,\n",
              "  'profile_path': '/4x3nbtD8q8phAJPmoGWXPvz0iM.jpg'},\n",
              " {'cast_id': 11,\n",
              "  'character': 'Kelly',\n",
              "  'credit_id': '5524ec51c3a3687df3000dbb',\n",
              "  'gender': 1,\n",
              "  'id': 86624,\n",
              "  'name': 'Collette Wolfe',\n",
              "  'order': 7,\n",
              "  'profile_path': '/aSD4h5379b2eEw3bLou9ByLimmq.jpg'},\n",
              " {'cast_id': 13,\n",
              "  'character': 'Brad',\n",
              "  'credit_id': '5524ec8ec3a3687ded000d72',\n",
              "  'gender': 2,\n",
              "  'id': 466505,\n",
              "  'name': 'Kumail Nanjiani',\n",
              "  'order': 9,\n",
              "  'profile_path': '/x4nAztHY72SVciRfxEsbhIVTsIu.jpg'},\n",
              " {'cast_id': 14,\n",
              "  'character': 'Courtney',\n",
              "  'credit_id': '5524ec9bc3a3687df8000d13',\n",
              "  'gender': 1,\n",
              "  'id': 70776,\n",
              "  'name': 'Kellee Stewart',\n",
              "  'order': 10,\n",
              "  'profile_path': '/w3xmsEPmJc1Cf0dQ4aIn8YmlHbk.jpg'},\n",
              " {'cast_id': 15,\n",
              "  'character': 'Terry',\n",
              "  'credit_id': '5524eca892514171cb008237',\n",
              "  'gender': 2,\n",
              "  'id': 347335,\n",
              "  'name': 'Josh Heald',\n",
              "  'order': 11,\n",
              "  'profile_path': '/pwXJIenrDMrG7t3zNfLvr8w1RGU.jpg'},\n",
              " {'cast_id': 16,\n",
              "  'character': 'Susan',\n",
              "  'credit_id': '5524ecb7925141720c001116',\n",
              "  'gender': 0,\n",
              "  'id': 1451392,\n",
              "  'name': 'Gretchen Koerner',\n",
              "  'order': 12,\n",
              "  'profile_path': '/muULPexCTJGyJba4yKzxronpD50.jpg'},\n",
              " {'cast_id': 17,\n",
              "  'character': 'Herself',\n",
              "  'credit_id': '5524ecc3c3a3687ded000d74',\n",
              "  'gender': 1,\n",
              "  'id': 98879,\n",
              "  'name': 'Lisa Loeb',\n",
              "  'order': 13,\n",
              "  'profile_path': '/bGqg58ca0bZR38z9HliUMmeNGE.jpg'},\n",
              " {'cast_id': 18,\n",
              "  'character': 'Herself',\n",
              "  'credit_id': '5524ecd3c3a3687e11000ed3',\n",
              "  'gender': 1,\n",
              "  'id': 1394648,\n",
              "  'name': 'Jessica Williams',\n",
              "  'order': 14,\n",
              "  'profile_path': '/A4syKjkcYB92wLEhH0c0hC3BCpz.jpg'},\n",
              " {'cast_id': 19,\n",
              "  'character': 'Himself',\n",
              "  'credit_id': '5524ece6925141718d001009',\n",
              "  'gender': 0,\n",
              "  'id': 1451393,\n",
              "  'name': 'Bruce Buffer',\n",
              "  'order': 15,\n",
              "  'profile_path': None},\n",
              " {'cast_id': 20,\n",
              "  'character': 'Shot Girl',\n",
              "  'credit_id': '5524ecf5c3a3687e08000dc2',\n",
              "  'gender': 0,\n",
              "  'id': 1451394,\n",
              "  'name': 'Mariana Paola Vicente',\n",
              "  'order': 16,\n",
              "  'profile_path': '/ckPllza8624UHWGHCbLShkLxCD1.jpg'},\n",
              " {'cast_id': 33,\n",
              "  'character': 'Choozy Doozy Host',\n",
              "  'credit_id': '555844da9251412afe0013a9',\n",
              "  'gender': 2,\n",
              "  'id': 2224,\n",
              "  'name': 'Christian Slater',\n",
              "  'order': 17,\n",
              "  'profile_path': '/3ElLWjnvchMS6Q4cIQOK8QNAoMG.jpg'},\n",
              " {'cast_id': 35,\n",
              "  'character': 'Gary Winkle',\n",
              "  'credit_id': '55872027c3a3683853005074',\n",
              "  'gender': 0,\n",
              "  'id': 185805,\n",
              "  'name': 'Jason Jones',\n",
              "  'order': 18,\n",
              "  'profile_path': '/aIoCw6vo8AGMdsQRAI5g2t0yJT3.jpg'},\n",
              " {'cast_id': 36,\n",
              "  'character': 'Bridesmaid',\n",
              "  'credit_id': '55efe971c3a368090c00cd1b',\n",
              "  'gender': 0,\n",
              "  'id': 1507448,\n",
              "  'name': 'Olivia Jordan',\n",
              "  'order': 19,\n",
              "  'profile_path': '/szMukAEiIDeasel0lvyaeyKuych.jpg'},\n",
              " {'cast_id': 37,\n",
              "  'character': 'Christine',\n",
              "  'credit_id': '55efe980c3a36871bf008176',\n",
              "  'gender': 1,\n",
              "  'id': 1334091,\n",
              "  'name': 'Christine Bently',\n",
              "  'order': 20,\n",
              "  'profile_path': '/oUZltnGa55OXE52hfyPTfCshuNy.jpg'},\n",
              " {'cast_id': 38,\n",
              "  'character': 'Excited Girl',\n",
              "  'credit_id': '55efe98e9251413e3201d316',\n",
              "  'gender': 0,\n",
              "  'id': 557803,\n",
              "  'name': 'Stacey Asaro',\n",
              "  'order': 21,\n",
              "  'profile_path': '/qTPdlr1dXf3kNdyHuDsgtGC0HCC.jpg'},\n",
              " {'cast_id': 64,\n",
              "  'character': 'Adam (uncredited)',\n",
              "  'credit_id': '58f2135ac3a3682e95008b91',\n",
              "  'gender': 2,\n",
              "  'id': 3036,\n",
              "  'name': 'John Cusack',\n",
              "  'order': 22,\n",
              "  'profile_path': '/uKydQYuZ9TnCzvbQLtj6j98vWAT.jpg'},\n",
              " {'cast_id': 65,\n",
              "  'character': 'J-Bird',\n",
              "  'credit_id': '59ac0240c3a3682cc802c399',\n",
              "  'gender': 2,\n",
              "  'id': 59256,\n",
              "  'name': 'Adam Herschman',\n",
              "  'order': 23,\n",
              "  'profile_path': '/wZMwiuX1DslF6hDS50z9OTN6z1X.jpg'},\n",
              " {'cast_id': 66,\n",
              "  'character': 'Bridesmaid',\n",
              "  'credit_id': '59ac02cd925141079d02b1b4',\n",
              "  'gender': 1,\n",
              "  'id': 129714,\n",
              "  'name': 'Kisha Sierra',\n",
              "  'order': 24,\n",
              "  'profile_path': None}]"
            ]
          },
          "metadata": {},
          "execution_count": 12
        }
      ]
    },
    {
      "cell_type": "code",
      "source": [
        "#print('Number of genres in films')\n",
        "train['genres'].apply(lambda x: len(x) if x != {} else 0).value_counts()\n",
        "list_of_genres = list(train['genres'].apply(lambda x: [i['name'] for i in x] if x != {} else []).values)"
      ],
      "metadata": {
        "id": "JtZ6YpsFaK7j"
      },
      "execution_count": null,
      "outputs": []
    },
    {
      "cell_type": "code",
      "source": [
        "Counter([i for j in list_of_genres for i in j]).most_common()"
      ],
      "metadata": {
        "colab": {
          "base_uri": "https://localhost:8080/"
        },
        "id": "YJ9I-bfpd6ui",
        "outputId": "a628d21b-478d-4c15-8d63-582e068fe385"
      },
      "execution_count": null,
      "outputs": [
        {
          "output_type": "execute_result",
          "data": {
            "text/plain": [
              "[('Drama', 1531),\n",
              " ('Comedy', 1028),\n",
              " ('Thriller', 789),\n",
              " ('Action', 741),\n",
              " ('Romance', 571),\n",
              " ('Crime', 469),\n",
              " ('Adventure', 439),\n",
              " ('Horror', 301),\n",
              " ('Science Fiction', 290),\n",
              " ('Family', 260),\n",
              " ('Fantasy', 232),\n",
              " ('Mystery', 225),\n",
              " ('Animation', 141),\n",
              " ('History', 132),\n",
              " ('Music', 100),\n",
              " ('War', 100),\n",
              " ('Documentary', 87),\n",
              " ('Western', 43),\n",
              " ('Foreign', 31),\n",
              " ('TV Movie', 1)]"
            ]
          },
          "metadata": {},
          "execution_count": 14
        }
      ]
    },
    {
      "cell_type": "code",
      "source": [
        "train['num_genres'] = train['genres'].apply(lambda x: len(x) if x != {} else 0)\n",
        "#train['all_genres'] = train['genres'].apply(lambda x: ' '.join(sorted([i['name'] for i in x])) if x != {} else '')\n",
        "#top_genres = [m[0] for m in Counter([i for j in list_of_genres for i in j]).most_common(15)]\n",
        "#for g in top_genres:\n",
        "#    train['genre_' + g] = train['all_genres'].apply(lambda x: 1 if g in x else 0)\n",
        "    \n",
        "#test['num_genres'] = test['genres'].apply(lambda x: len(x) if x != {} else 0)\n",
        "#test['all_genres'] = test['genres'].apply(lambda x: ' '.join(sorted([i['name'] for i in x])) if x != {} else '')\n",
        "#for g in top_genres:\n",
        "#    test['genre_' + g] = test['all_genres'].apply(lambda x: 1 if g in x else 0)\n",
        "\n",
        "train = train.drop(['genres'], axis=1)"
      ],
      "metadata": {
        "id": "jZd9wcwRd9Zb"
      },
      "execution_count": null,
      "outputs": []
    },
    {
      "cell_type": "code",
      "source": [
        "#train['all_genres']"
      ],
      "metadata": {
        "id": "E_z_GEkNeJ-k"
      },
      "execution_count": null,
      "outputs": []
    },
    {
      "cell_type": "code",
      "source": [
        "\n",
        "#print('Number of casted persons in films')\n",
        "train['cast'].apply(lambda x: len(x) if x != {} else 0).value_counts().head(10)"
      ],
      "metadata": {
        "id": "zcV01RoYeNrQ",
        "colab": {
          "base_uri": "https://localhost:8080/"
        },
        "outputId": "1bfdf431-bac7-4931-e481-220bb48fb1cc"
      },
      "execution_count": null,
      "outputs": [
        {
          "output_type": "execute_result",
          "data": {
            "text/plain": [
              "15    212\n",
              "16    165\n",
              "10    135\n",
              "13    129\n",
              "12    124\n",
              "11    122\n",
              "17    118\n",
              "9     118\n",
              "18    115\n",
              "14    110\n",
              "Name: cast, dtype: int64"
            ]
          },
          "metadata": {},
          "execution_count": 17
        }
      ]
    },
    {
      "cell_type": "code",
      "source": [
        "list_of_cast_names = list(train['cast'].apply(lambda x: [i['name'] for i in x] if x != {} else []).values)\n",
        "Counter([i for j in list_of_cast_names for i in j]).most_common(15)"
      ],
      "metadata": {
        "id": "dVQGtVOqf9j2",
        "colab": {
          "base_uri": "https://localhost:8080/"
        },
        "outputId": "aa85f083-16ec-43eb-ff21-d12882bdb853"
      },
      "execution_count": null,
      "outputs": [
        {
          "output_type": "execute_result",
          "data": {
            "text/plain": [
              "[('Samuel L. Jackson', 30),\n",
              " ('Robert De Niro', 30),\n",
              " ('Morgan Freeman', 27),\n",
              " ('J.K. Simmons', 25),\n",
              " ('Bruce Willis', 25),\n",
              " ('Liam Neeson', 25),\n",
              " ('Susan Sarandon', 25),\n",
              " ('Bruce McGill', 24),\n",
              " ('John Turturro', 24),\n",
              " ('Forest Whitaker', 23),\n",
              " ('Willem Dafoe', 23),\n",
              " ('Bill Murray', 22),\n",
              " ('Owen Wilson', 22),\n",
              " ('Nicolas Cage', 22),\n",
              " ('Sylvester Stallone', 21)]"
            ]
          },
          "metadata": {},
          "execution_count": 18
        }
      ]
    },
    {
      "cell_type": "code",
      "source": [
        "train['num_cast'] = train['cast'].apply(lambda x: len(x) if x != {} else 0)\n",
        "top_cast_names = [m[0] for m in Counter([i for j in list_of_cast_names for i in j]).most_common(15)]\n",
        "train = train.drop(['cast'], axis=1)"
      ],
      "metadata": {
        "id": "SArhCWTqgFQG"
      },
      "execution_count": null,
      "outputs": []
    },
    {
      "cell_type": "code",
      "source": [
        "train['num_cast']"
      ],
      "metadata": {
        "id": "voyNQCbqgSVo",
        "colab": {
          "base_uri": "https://localhost:8080/"
        },
        "outputId": "840c54c8-f42d-438d-a4ad-3bb704c18f1f"
      },
      "execution_count": null,
      "outputs": [
        {
          "output_type": "execute_result",
          "data": {
            "text/plain": [
              "0       24\n",
              "1       20\n",
              "2       51\n",
              "3        7\n",
              "4        4\n",
              "        ..\n",
              "2995    15\n",
              "2996    11\n",
              "2997    15\n",
              "2998    26\n",
              "2999    34\n",
              "Name: num_cast, Length: 3000, dtype: int64"
            ]
          },
          "metadata": {},
          "execution_count": 20
        }
      ]
    },
    {
      "cell_type": "code",
      "source": [
        "train['crew'].apply(lambda x: len(x) if x != {} else 0).value_counts().head(10)\n",
        "list_of_crew_names = list(train['crew'].apply(lambda x: [i['name'] for i in x] if x != {} else []).values)\n",
        "Counter([i for j in list_of_crew_names for i in j]).most_common(15)\n",
        "train['num_crew'] = train['crew'].apply(lambda x: len(x) if x != {} else 0)\n",
        "top_crew_names = [m[0] for m in Counter([i for j in list_of_crew_names for i in j]).most_common(15)]\n",
        "train = train.drop(['crew'], axis=1)"
      ],
      "metadata": {
        "id": "KB96XpuxgVM0"
      },
      "execution_count": null,
      "outputs": []
    },
    {
      "cell_type": "code",
      "source": [],
      "metadata": {
        "id": "JRaq-qtYfBL9"
      },
      "execution_count": null,
      "outputs": []
    },
    {
      "cell_type": "code",
      "source": [
        "train['num_crew']"
      ],
      "metadata": {
        "id": "hhVEohH7h4YW",
        "colab": {
          "base_uri": "https://localhost:8080/"
        },
        "outputId": "74d98d6d-5b0c-4d43-88b3-597ff6635498"
      },
      "execution_count": null,
      "outputs": [
        {
          "output_type": "execute_result",
          "data": {
            "text/plain": [
              "0       72\n",
              "1        9\n",
              "2       64\n",
              "3        3\n",
              "4        2\n",
              "        ..\n",
              "2995    17\n",
              "2996    15\n",
              "2997    10\n",
              "2998    89\n",
              "2999    48\n",
              "Name: num_crew, Length: 3000, dtype: int64"
            ]
          },
          "metadata": {},
          "execution_count": 22
        }
      ]
    },
    {
      "cell_type": "code",
      "source": [
        "runtime_mean = train[\"runtime\"].mean()\n",
        "runtime_mean"
      ],
      "metadata": {
        "id": "bcbswCOTiNV3",
        "colab": {
          "base_uri": "https://localhost:8080/"
        },
        "outputId": "92b00dc3-07c1-4f6f-9626-ec4cab355eb9"
      },
      "execution_count": null,
      "outputs": [
        {
          "output_type": "execute_result",
          "data": {
            "text/plain": [
              "107.85657104736491"
            ]
          },
          "metadata": {},
          "execution_count": 23
        }
      ]
    },
    {
      "cell_type": "code",
      "source": [
        "# taking the ratio of average run time divied by current movie's run time. This is so that if the movie is longer we are penalizing it\n",
        "train['runtime_effect'] = runtime_mean/train[\"runtime\"]"
      ],
      "metadata": {
        "id": "WQWBr13_jHrD"
      },
      "execution_count": null,
      "outputs": []
    },
    {
      "cell_type": "code",
      "source": [
        "train['runtime_effect'].apply(lambda x : runtime_mean/x if x!=0 else 0)"
      ],
      "metadata": {
        "id": "DP8R0GgXU1DS",
        "colab": {
          "base_uri": "https://localhost:8080/"
        },
        "outputId": "08210cbd-66b1-4ba7-81ea-ed6ce984f24b"
      },
      "execution_count": null,
      "outputs": [
        {
          "output_type": "execute_result",
          "data": {
            "text/plain": [
              "0        93.0\n",
              "1       113.0\n",
              "2       105.0\n",
              "3       122.0\n",
              "4       118.0\n",
              "        ...  \n",
              "2995    102.0\n",
              "2996    102.0\n",
              "2997    120.0\n",
              "2998     90.0\n",
              "2999    106.0\n",
              "Name: runtime_effect, Length: 3000, dtype: float64"
            ]
          },
          "metadata": {},
          "execution_count": 25
        }
      ]
    },
    {
      "cell_type": "code",
      "source": [
        "train['runtime_effect']"
      ],
      "metadata": {
        "colab": {
          "base_uri": "https://localhost:8080/"
        },
        "id": "fWpUfCClcy2H",
        "outputId": "f4c04ad7-40e9-4913-8b94-6ebad77f958d"
      },
      "execution_count": null,
      "outputs": [
        {
          "output_type": "execute_result",
          "data": {
            "text/plain": [
              "0       1.159748\n",
              "1       0.954483\n",
              "2       1.027205\n",
              "3       0.884070\n",
              "4       0.914039\n",
              "          ...   \n",
              "2995    1.057417\n",
              "2996    1.057417\n",
              "2997    0.898805\n",
              "2998    1.198406\n",
              "2999    1.017515\n",
              "Name: runtime_effect, Length: 3000, dtype: float64"
            ]
          },
          "metadata": {},
          "execution_count": 26
        }
      ]
    },
    {
      "cell_type": "code",
      "source": [
        "train.head()"
      ],
      "metadata": {
        "id": "QgXMZPBRc64m",
        "colab": {
          "base_uri": "https://localhost:8080/",
          "height": 669
        },
        "outputId": "c8d0afc1-cda3-4d92-9963-4ea4d0f8485f"
      },
      "execution_count": null,
      "outputs": [
        {
          "output_type": "execute_result",
          "data": {
            "text/plain": [
              "   id                              belongs_to_collection    budget  \\\n",
              "0   1  [{'id': 313576, 'name': 'Hot Tub Time Machine ...  14000000   \n",
              "1   2  [{'id': 107674, 'name': 'The Princess Diaries ...  40000000   \n",
              "2   3                                                 {}   3300000   \n",
              "3   4                                                 {}   1200000   \n",
              "4   5                                                 {}         0   \n",
              "\n",
              "                            homepage    imdb_id original_language  \\\n",
              "0                                NaN  tt2637294                en   \n",
              "1                                NaN  tt0368933                en   \n",
              "2  http://sonyclassics.com/whiplash/  tt2582802                en   \n",
              "3         http://kahaanithefilm.com/  tt1821480                hi   \n",
              "4                                NaN  tt1380152                ko   \n",
              "\n",
              "                             original_title  \\\n",
              "0                    Hot Tub Time Machine 2   \n",
              "1  The Princess Diaries 2: Royal Engagement   \n",
              "2                                  Whiplash   \n",
              "3                                   Kahaani   \n",
              "4                                      마린보이   \n",
              "\n",
              "                                            overview  popularity  \\\n",
              "0  When Lou, who has become the \"father of the In...    6.575393   \n",
              "1  Mia Thermopolis is now a college graduate and ...    8.248895   \n",
              "2  Under the direction of a ruthless instructor, ...   64.299990   \n",
              "3  Vidya Bagchi (Vidya Balan) arrives in Kolkata ...    3.174936   \n",
              "4  Marine Boy is the story of a former national s...    1.148070   \n",
              "\n",
              "                        poster_path  \\\n",
              "0  /tQtWuwvMf0hCc2QR2tkolwl7c3c.jpg   \n",
              "1  /w9Z7A0GHEhIp7etpj0vyKOeU1Wx.jpg   \n",
              "2  /lIv1QinFqz4dlp5U4lQ6HaiskOZ.jpg   \n",
              "3  /aTXRaPrWSinhcmCrcfJK17urp3F.jpg   \n",
              "4  /m22s7zvkVFDU9ir56PiiqIEWFdT.jpg   \n",
              "\n",
              "                                production_companies  \\\n",
              "0  [{'name': 'Paramount Pictures', 'id': 4}, {'na...   \n",
              "1        [{'name': 'Walt Disney Pictures', 'id': 2}]   \n",
              "2  [{'name': 'Bold Films', 'id': 2266}, {'name': ...   \n",
              "3                                                 {}   \n",
              "4                                                 {}   \n",
              "\n",
              "                                production_countries release_date  runtime  \\\n",
              "0  [{'iso_3166_1': 'US', 'name': 'United States o...      2/20/15     93.0   \n",
              "1  [{'iso_3166_1': 'US', 'name': 'United States o...       8/6/04    113.0   \n",
              "2  [{'iso_3166_1': 'US', 'name': 'United States o...     10/10/14    105.0   \n",
              "3            [{'iso_3166_1': 'IN', 'name': 'India'}]       3/9/12    122.0   \n",
              "4      [{'iso_3166_1': 'KR', 'name': 'South Korea'}]       2/5/09    118.0   \n",
              "\n",
              "                                    spoken_languages    status  \\\n",
              "0           [{'iso_639_1': 'en', 'name': 'English'}]  Released   \n",
              "1           [{'iso_639_1': 'en', 'name': 'English'}]  Released   \n",
              "2           [{'iso_639_1': 'en', 'name': 'English'}]  Released   \n",
              "3  [{'iso_639_1': 'en', 'name': 'English'}, {'iso...  Released   \n",
              "4           [{'iso_639_1': 'ko', 'name': '한국어/조선말'}]  Released   \n",
              "\n",
              "                                             tagline  \\\n",
              "0  The Laws of Space and Time are About to be Vio...   \n",
              "1  It can take a lifetime to find true love; she'...   \n",
              "2    The road to greatness can take you to the edge.   \n",
              "3                                                NaN   \n",
              "4                                                NaN   \n",
              "\n",
              "                                      title  \\\n",
              "0                    Hot Tub Time Machine 2   \n",
              "1  The Princess Diaries 2: Royal Engagement   \n",
              "2                                  Whiplash   \n",
              "3                                   Kahaani   \n",
              "4                                Marine Boy   \n",
              "\n",
              "                                            Keywords   revenue  num_genres  \\\n",
              "0  [{'id': 4379, 'name': 'time travel'}, {'id': 9...  12314651           1   \n",
              "1  [{'id': 2505, 'name': 'coronation'}, {'id': 42...  95149435           4   \n",
              "2  [{'id': 1416, 'name': 'jazz'}, {'id': 1523, 'n...  13092000           1   \n",
              "3  [{'id': 10092, 'name': 'mystery'}, {'id': 1054...  16000000           2   \n",
              "4                                                 {}   3923970           2   \n",
              "\n",
              "   num_cast  num_crew  runtime_effect  \n",
              "0        24        72        1.159748  \n",
              "1        20         9        0.954483  \n",
              "2        51        64        1.027205  \n",
              "3         7         3        0.884070  \n",
              "4         4         2        0.914039  "
            ],
            "text/html": [
              "\n",
              "  <div id=\"df-2d130895-643e-42cf-bf13-11bd921685ca\">\n",
              "    <div class=\"colab-df-container\">\n",
              "      <div>\n",
              "<style scoped>\n",
              "    .dataframe tbody tr th:only-of-type {\n",
              "        vertical-align: middle;\n",
              "    }\n",
              "\n",
              "    .dataframe tbody tr th {\n",
              "        vertical-align: top;\n",
              "    }\n",
              "\n",
              "    .dataframe thead th {\n",
              "        text-align: right;\n",
              "    }\n",
              "</style>\n",
              "<table border=\"1\" class=\"dataframe\">\n",
              "  <thead>\n",
              "    <tr style=\"text-align: right;\">\n",
              "      <th></th>\n",
              "      <th>id</th>\n",
              "      <th>belongs_to_collection</th>\n",
              "      <th>budget</th>\n",
              "      <th>homepage</th>\n",
              "      <th>imdb_id</th>\n",
              "      <th>original_language</th>\n",
              "      <th>original_title</th>\n",
              "      <th>overview</th>\n",
              "      <th>popularity</th>\n",
              "      <th>poster_path</th>\n",
              "      <th>production_companies</th>\n",
              "      <th>production_countries</th>\n",
              "      <th>release_date</th>\n",
              "      <th>runtime</th>\n",
              "      <th>spoken_languages</th>\n",
              "      <th>status</th>\n",
              "      <th>tagline</th>\n",
              "      <th>title</th>\n",
              "      <th>Keywords</th>\n",
              "      <th>revenue</th>\n",
              "      <th>num_genres</th>\n",
              "      <th>num_cast</th>\n",
              "      <th>num_crew</th>\n",
              "      <th>runtime_effect</th>\n",
              "    </tr>\n",
              "  </thead>\n",
              "  <tbody>\n",
              "    <tr>\n",
              "      <th>0</th>\n",
              "      <td>1</td>\n",
              "      <td>[{'id': 313576, 'name': 'Hot Tub Time Machine ...</td>\n",
              "      <td>14000000</td>\n",
              "      <td>NaN</td>\n",
              "      <td>tt2637294</td>\n",
              "      <td>en</td>\n",
              "      <td>Hot Tub Time Machine 2</td>\n",
              "      <td>When Lou, who has become the \"father of the In...</td>\n",
              "      <td>6.575393</td>\n",
              "      <td>/tQtWuwvMf0hCc2QR2tkolwl7c3c.jpg</td>\n",
              "      <td>[{'name': 'Paramount Pictures', 'id': 4}, {'na...</td>\n",
              "      <td>[{'iso_3166_1': 'US', 'name': 'United States o...</td>\n",
              "      <td>2/20/15</td>\n",
              "      <td>93.0</td>\n",
              "      <td>[{'iso_639_1': 'en', 'name': 'English'}]</td>\n",
              "      <td>Released</td>\n",
              "      <td>The Laws of Space and Time are About to be Vio...</td>\n",
              "      <td>Hot Tub Time Machine 2</td>\n",
              "      <td>[{'id': 4379, 'name': 'time travel'}, {'id': 9...</td>\n",
              "      <td>12314651</td>\n",
              "      <td>1</td>\n",
              "      <td>24</td>\n",
              "      <td>72</td>\n",
              "      <td>1.159748</td>\n",
              "    </tr>\n",
              "    <tr>\n",
              "      <th>1</th>\n",
              "      <td>2</td>\n",
              "      <td>[{'id': 107674, 'name': 'The Princess Diaries ...</td>\n",
              "      <td>40000000</td>\n",
              "      <td>NaN</td>\n",
              "      <td>tt0368933</td>\n",
              "      <td>en</td>\n",
              "      <td>The Princess Diaries 2: Royal Engagement</td>\n",
              "      <td>Mia Thermopolis is now a college graduate and ...</td>\n",
              "      <td>8.248895</td>\n",
              "      <td>/w9Z7A0GHEhIp7etpj0vyKOeU1Wx.jpg</td>\n",
              "      <td>[{'name': 'Walt Disney Pictures', 'id': 2}]</td>\n",
              "      <td>[{'iso_3166_1': 'US', 'name': 'United States o...</td>\n",
              "      <td>8/6/04</td>\n",
              "      <td>113.0</td>\n",
              "      <td>[{'iso_639_1': 'en', 'name': 'English'}]</td>\n",
              "      <td>Released</td>\n",
              "      <td>It can take a lifetime to find true love; she'...</td>\n",
              "      <td>The Princess Diaries 2: Royal Engagement</td>\n",
              "      <td>[{'id': 2505, 'name': 'coronation'}, {'id': 42...</td>\n",
              "      <td>95149435</td>\n",
              "      <td>4</td>\n",
              "      <td>20</td>\n",
              "      <td>9</td>\n",
              "      <td>0.954483</td>\n",
              "    </tr>\n",
              "    <tr>\n",
              "      <th>2</th>\n",
              "      <td>3</td>\n",
              "      <td>{}</td>\n",
              "      <td>3300000</td>\n",
              "      <td>http://sonyclassics.com/whiplash/</td>\n",
              "      <td>tt2582802</td>\n",
              "      <td>en</td>\n",
              "      <td>Whiplash</td>\n",
              "      <td>Under the direction of a ruthless instructor, ...</td>\n",
              "      <td>64.299990</td>\n",
              "      <td>/lIv1QinFqz4dlp5U4lQ6HaiskOZ.jpg</td>\n",
              "      <td>[{'name': 'Bold Films', 'id': 2266}, {'name': ...</td>\n",
              "      <td>[{'iso_3166_1': 'US', 'name': 'United States o...</td>\n",
              "      <td>10/10/14</td>\n",
              "      <td>105.0</td>\n",
              "      <td>[{'iso_639_1': 'en', 'name': 'English'}]</td>\n",
              "      <td>Released</td>\n",
              "      <td>The road to greatness can take you to the edge.</td>\n",
              "      <td>Whiplash</td>\n",
              "      <td>[{'id': 1416, 'name': 'jazz'}, {'id': 1523, 'n...</td>\n",
              "      <td>13092000</td>\n",
              "      <td>1</td>\n",
              "      <td>51</td>\n",
              "      <td>64</td>\n",
              "      <td>1.027205</td>\n",
              "    </tr>\n",
              "    <tr>\n",
              "      <th>3</th>\n",
              "      <td>4</td>\n",
              "      <td>{}</td>\n",
              "      <td>1200000</td>\n",
              "      <td>http://kahaanithefilm.com/</td>\n",
              "      <td>tt1821480</td>\n",
              "      <td>hi</td>\n",
              "      <td>Kahaani</td>\n",
              "      <td>Vidya Bagchi (Vidya Balan) arrives in Kolkata ...</td>\n",
              "      <td>3.174936</td>\n",
              "      <td>/aTXRaPrWSinhcmCrcfJK17urp3F.jpg</td>\n",
              "      <td>{}</td>\n",
              "      <td>[{'iso_3166_1': 'IN', 'name': 'India'}]</td>\n",
              "      <td>3/9/12</td>\n",
              "      <td>122.0</td>\n",
              "      <td>[{'iso_639_1': 'en', 'name': 'English'}, {'iso...</td>\n",
              "      <td>Released</td>\n",
              "      <td>NaN</td>\n",
              "      <td>Kahaani</td>\n",
              "      <td>[{'id': 10092, 'name': 'mystery'}, {'id': 1054...</td>\n",
              "      <td>16000000</td>\n",
              "      <td>2</td>\n",
              "      <td>7</td>\n",
              "      <td>3</td>\n",
              "      <td>0.884070</td>\n",
              "    </tr>\n",
              "    <tr>\n",
              "      <th>4</th>\n",
              "      <td>5</td>\n",
              "      <td>{}</td>\n",
              "      <td>0</td>\n",
              "      <td>NaN</td>\n",
              "      <td>tt1380152</td>\n",
              "      <td>ko</td>\n",
              "      <td>마린보이</td>\n",
              "      <td>Marine Boy is the story of a former national s...</td>\n",
              "      <td>1.148070</td>\n",
              "      <td>/m22s7zvkVFDU9ir56PiiqIEWFdT.jpg</td>\n",
              "      <td>{}</td>\n",
              "      <td>[{'iso_3166_1': 'KR', 'name': 'South Korea'}]</td>\n",
              "      <td>2/5/09</td>\n",
              "      <td>118.0</td>\n",
              "      <td>[{'iso_639_1': 'ko', 'name': '한국어/조선말'}]</td>\n",
              "      <td>Released</td>\n",
              "      <td>NaN</td>\n",
              "      <td>Marine Boy</td>\n",
              "      <td>{}</td>\n",
              "      <td>3923970</td>\n",
              "      <td>2</td>\n",
              "      <td>4</td>\n",
              "      <td>2</td>\n",
              "      <td>0.914039</td>\n",
              "    </tr>\n",
              "  </tbody>\n",
              "</table>\n",
              "</div>\n",
              "      <button class=\"colab-df-convert\" onclick=\"convertToInteractive('df-2d130895-643e-42cf-bf13-11bd921685ca')\"\n",
              "              title=\"Convert this dataframe to an interactive table.\"\n",
              "              style=\"display:none;\">\n",
              "        \n",
              "  <svg xmlns=\"http://www.w3.org/2000/svg\" height=\"24px\"viewBox=\"0 0 24 24\"\n",
              "       width=\"24px\">\n",
              "    <path d=\"M0 0h24v24H0V0z\" fill=\"none\"/>\n",
              "    <path d=\"M18.56 5.44l.94 2.06.94-2.06 2.06-.94-2.06-.94-.94-2.06-.94 2.06-2.06.94zm-11 1L8.5 8.5l.94-2.06 2.06-.94-2.06-.94L8.5 2.5l-.94 2.06-2.06.94zm10 10l.94 2.06.94-2.06 2.06-.94-2.06-.94-.94-2.06-.94 2.06-2.06.94z\"/><path d=\"M17.41 7.96l-1.37-1.37c-.4-.4-.92-.59-1.43-.59-.52 0-1.04.2-1.43.59L10.3 9.45l-7.72 7.72c-.78.78-.78 2.05 0 2.83L4 21.41c.39.39.9.59 1.41.59.51 0 1.02-.2 1.41-.59l7.78-7.78 2.81-2.81c.8-.78.8-2.07 0-2.86zM5.41 20L4 18.59l7.72-7.72 1.47 1.35L5.41 20z\"/>\n",
              "  </svg>\n",
              "      </button>\n",
              "      \n",
              "  <style>\n",
              "    .colab-df-container {\n",
              "      display:flex;\n",
              "      flex-wrap:wrap;\n",
              "      gap: 12px;\n",
              "    }\n",
              "\n",
              "    .colab-df-convert {\n",
              "      background-color: #E8F0FE;\n",
              "      border: none;\n",
              "      border-radius: 50%;\n",
              "      cursor: pointer;\n",
              "      display: none;\n",
              "      fill: #1967D2;\n",
              "      height: 32px;\n",
              "      padding: 0 0 0 0;\n",
              "      width: 32px;\n",
              "    }\n",
              "\n",
              "    .colab-df-convert:hover {\n",
              "      background-color: #E2EBFA;\n",
              "      box-shadow: 0px 1px 2px rgba(60, 64, 67, 0.3), 0px 1px 3px 1px rgba(60, 64, 67, 0.15);\n",
              "      fill: #174EA6;\n",
              "    }\n",
              "\n",
              "    [theme=dark] .colab-df-convert {\n",
              "      background-color: #3B4455;\n",
              "      fill: #D2E3FC;\n",
              "    }\n",
              "\n",
              "    [theme=dark] .colab-df-convert:hover {\n",
              "      background-color: #434B5C;\n",
              "      box-shadow: 0px 1px 3px 1px rgba(0, 0, 0, 0.15);\n",
              "      filter: drop-shadow(0px 1px 2px rgba(0, 0, 0, 0.3));\n",
              "      fill: #FFFFFF;\n",
              "    }\n",
              "  </style>\n",
              "\n",
              "      <script>\n",
              "        const buttonEl =\n",
              "          document.querySelector('#df-2d130895-643e-42cf-bf13-11bd921685ca button.colab-df-convert');\n",
              "        buttonEl.style.display =\n",
              "          google.colab.kernel.accessAllowed ? 'block' : 'none';\n",
              "\n",
              "        async function convertToInteractive(key) {\n",
              "          const element = document.querySelector('#df-2d130895-643e-42cf-bf13-11bd921685ca');\n",
              "          const dataTable =\n",
              "            await google.colab.kernel.invokeFunction('convertToInteractive',\n",
              "                                                     [key], {});\n",
              "          if (!dataTable) return;\n",
              "\n",
              "          const docLinkHtml = 'Like what you see? Visit the ' +\n",
              "            '<a target=\"_blank\" href=https://colab.research.google.com/notebooks/data_table.ipynb>data table notebook</a>'\n",
              "            + ' to learn more about interactive tables.';\n",
              "          element.innerHTML = '';\n",
              "          dataTable['output_type'] = 'display_data';\n",
              "          await google.colab.output.renderOutput(dataTable, element);\n",
              "          const docLink = document.createElement('div');\n",
              "          docLink.innerHTML = docLinkHtml;\n",
              "          element.appendChild(docLink);\n",
              "        }\n",
              "      </script>\n",
              "    </div>\n",
              "  </div>\n",
              "  "
            ]
          },
          "metadata": {},
          "execution_count": 27
        }
      ]
    },
    {
      "cell_type": "code",
      "source": [
        "train['production_companies'].apply(lambda x: len(x) if x != {} else 0).value_counts().head(10)\n",
        "list_of_production_companies = list(train['production_companies'].apply(lambda x: [i['name'] for i in x] if x != {} else []).values)\n",
        "Counter([i for j in list_of_production_companies for i in j]).most_common(20)\n",
        "train['num_prod_companies'] = train['production_companies'].apply(lambda x: len(x) if x != {} else 0)\n",
        "top_prod_companies = [m[0] for m in Counter([i for j in list_of_production_companies for i in j]).most_common(15)]\n",
        "train = train.drop(['production_companies'], axis=1)"
      ],
      "metadata": {
        "id": "XXOW0fMxfDqe"
      },
      "execution_count": null,
      "outputs": []
    },
    {
      "cell_type": "code",
      "source": [
        "train['num_prod_companies']"
      ],
      "metadata": {
        "colab": {
          "base_uri": "https://localhost:8080/"
        },
        "id": "VEqYRdP7fpdu",
        "outputId": "f8577fa2-9136-413f-9933-2990ccdcec52"
      },
      "execution_count": null,
      "outputs": [
        {
          "output_type": "execute_result",
          "data": {
            "text/plain": [
              "0       3\n",
              "1       1\n",
              "2       3\n",
              "3       0\n",
              "4       0\n",
              "       ..\n",
              "2995    2\n",
              "2996    2\n",
              "2997    3\n",
              "2998    2\n",
              "2999    6\n",
              "Name: num_prod_companies, Length: 3000, dtype: int64"
            ]
          },
          "metadata": {},
          "execution_count": 29
        }
      ]
    },
    {
      "cell_type": "code",
      "source": [
        "train['Keywords'].apply(lambda x: len(x) if x != {} else 0).value_counts().head(10)\n",
        "list_of_keywords = list(train['Keywords'].apply(lambda x: [i['name'] for i in x] if x != {} else []).values)\n",
        "\n",
        "train['num_Keywords'] = train['Keywords'].apply(lambda x: len(x) if x != {} else 0)\n",
        "train['all_Keywords'] = train['Keywords'].apply(lambda x: ' '.join(sorted([i['name'] for i in x])) if x != {} else '')\n",
        "\n",
        "top_keywords = [m[0] for m in Counter([i for j in list_of_keywords for i in j]).most_common(30)]\n",
        "\n",
        "for g in top_keywords:\n",
        "    train['keyword_' + g] = train['all_Keywords'].apply(lambda x: 1 if g in x else 0)\n",
        "    \n",
        "train = train.drop(['Keywords', 'all_Keywords'], axis=1)"
      ],
      "metadata": {
        "id": "D2aOPErpfsM7"
      },
      "execution_count": null,
      "outputs": []
    },
    {
      "cell_type": "code",
      "source": [
        "train['num_Keywords']"
      ],
      "metadata": {
        "colab": {
          "base_uri": "https://localhost:8080/"
        },
        "id": "hExDfiqvqnlj",
        "outputId": "792ad3a3-06ab-499f-e3e8-13d19d646711"
      },
      "execution_count": null,
      "outputs": [
        {
          "output_type": "execute_result",
          "data": {
            "text/plain": [
              "0        4\n",
              "1        4\n",
              "2       12\n",
              "3        7\n",
              "4        0\n",
              "        ..\n",
              "2995    19\n",
              "2996     6\n",
              "2997    14\n",
              "2998    22\n",
              "2999    14\n",
              "Name: num_Keywords, Length: 3000, dtype: int64"
            ]
          },
          "metadata": {},
          "execution_count": 31
        }
      ]
    },
    {
      "cell_type": "code",
      "source": [
        "train['overview'][3]"
      ],
      "metadata": {
        "colab": {
          "base_uri": "https://localhost:8080/",
          "height": 90
        },
        "id": "ngb218ztquQR",
        "outputId": "33673d32-5e2a-45b2-dbdb-b09f66afb6d9"
      },
      "execution_count": null,
      "outputs": [
        {
          "output_type": "execute_result",
          "data": {
            "text/plain": [
              "'Vidya Bagchi (Vidya Balan) arrives in Kolkata from London to find her missing husband Arnab Bagchi. Seven months pregnant and alone in a festive city, she begins a relentless search for her husband. With nothing to rely on except fragments from her memories about him, all clues seem to reach a dead end when everyone tries to convince Vidya that her husband does not exist. She slowly realises that nothing is what it seems. In a city soaked in lies, Vidya is determined to unravel the truth about her husband - for herself and her unborn child - even at the cost of her own life.'"
            ],
            "application/vnd.google.colaboratory.intrinsic+json": {
              "type": "string"
            }
          },
          "metadata": {},
          "execution_count": 32
        }
      ]
    },
    {
      "cell_type": "code",
      "source": [
        "import nltk\n",
        "nltk.download('stopwords')\n",
        "nltk.download('punkt')\n",
        "import string \n",
        "    \n",
        "# Storing the sets of punctuation in variable result \n",
        "result = string.punctuation \n",
        "\n",
        "\n",
        "def word_count(formatted_article_text):\n",
        "  word_frequencies = {}\n",
        "  for word in nltk.word_tokenize(formatted_article_text):\n",
        "      if word not in stopwords.words('english') and word not in result :\n",
        "          if word not in word_frequencies.keys():\n",
        "              word_frequencies[word] = 1\n",
        "          else:\n",
        "              word_frequencies[word] += 1\n",
        "  return word_frequencies\n",
        "word_count(\"Vidya Bagchi (Vidya Balan) arrives in Kolkata from London to find her missing husband Arnab Bagchi. Seven months pregnant and alone in a festive city, she begins a relentless search for her husband. With nothing to rely on except fragments from her memories about him, all clues seem to reach a dead end when everyone tries to convince Vidya that her husband does not exist. She slowly realises that nothing is what it seems. In a city soaked in lies, Vidya is determined to unravel the truth about her husband - for herself and her unborn child - even at the cost of her own life.\")"
      ],
      "metadata": {
        "colab": {
          "base_uri": "https://localhost:8080/"
        },
        "id": "jZX5XEMUr5qD",
        "outputId": "26c899f4-fef3-4981-c1ac-27f544219cb2"
      },
      "execution_count": null,
      "outputs": [
        {
          "output_type": "stream",
          "name": "stderr",
          "text": [
            "[nltk_data] Downloading package stopwords to /root/nltk_data...\n",
            "[nltk_data]   Unzipping corpora/stopwords.zip.\n",
            "[nltk_data] Downloading package punkt to /root/nltk_data...\n",
            "[nltk_data]   Unzipping tokenizers/punkt.zip.\n"
          ]
        },
        {
          "output_type": "execute_result",
          "data": {
            "text/plain": [
              "{'Vidya': 4,\n",
              " 'Bagchi': 2,\n",
              " 'Balan': 1,\n",
              " 'arrives': 1,\n",
              " 'Kolkata': 1,\n",
              " 'London': 1,\n",
              " 'find': 1,\n",
              " 'missing': 1,\n",
              " 'husband': 4,\n",
              " 'Arnab': 1,\n",
              " 'Seven': 1,\n",
              " 'months': 1,\n",
              " 'pregnant': 1,\n",
              " 'alone': 1,\n",
              " 'festive': 1,\n",
              " 'city': 2,\n",
              " 'begins': 1,\n",
              " 'relentless': 1,\n",
              " 'search': 1,\n",
              " 'With': 1,\n",
              " 'nothing': 2,\n",
              " 'rely': 1,\n",
              " 'except': 1,\n",
              " 'fragments': 1,\n",
              " 'memories': 1,\n",
              " 'clues': 1,\n",
              " 'seem': 1,\n",
              " 'reach': 1,\n",
              " 'dead': 1,\n",
              " 'end': 1,\n",
              " 'everyone': 1,\n",
              " 'tries': 1,\n",
              " 'convince': 1,\n",
              " 'exist': 1,\n",
              " 'She': 1,\n",
              " 'slowly': 1,\n",
              " 'realises': 1,\n",
              " 'seems': 1,\n",
              " 'In': 1,\n",
              " 'soaked': 1,\n",
              " 'lies': 1,\n",
              " 'determined': 1,\n",
              " 'unravel': 1,\n",
              " 'truth': 1,\n",
              " 'unborn': 1,\n",
              " 'child': 1,\n",
              " 'even': 1,\n",
              " 'cost': 1,\n",
              " 'life': 1}"
            ]
          },
          "metadata": {},
          "execution_count": 33
        }
      ]
    },
    {
      "cell_type": "code",
      "source": [
        "train[\"overview\"].dropna()"
      ],
      "metadata": {
        "colab": {
          "base_uri": "https://localhost:8080/"
        },
        "id": "KL002s5Zq-WL",
        "outputId": "2750a860-43f2-40bf-a026-d3a446fbe232"
      },
      "execution_count": null,
      "outputs": [
        {
          "output_type": "execute_result",
          "data": {
            "text/plain": [
              "0       When Lou, who has become the \"father of the In...\n",
              "1       Mia Thermopolis is now a college graduate and ...\n",
              "2       Under the direction of a ruthless instructor, ...\n",
              "3       Vidya Bagchi (Vidya Balan) arrives in Kolkata ...\n",
              "4       Marine Boy is the story of a former national s...\n",
              "                              ...                        \n",
              "2995    Military men Rock Reilly and Eddie Devane are ...\n",
              "2996    Three girls in 1980s Stockholm decide to form ...\n",
              "2997    Samantha Caine, suburban homemaker, is the ide...\n",
              "2998    Reuben Feffer is a guy who's spent his entire ...\n",
              "2999    A young man sets out to uncover the truth abou...\n",
              "Name: overview, Length: 2992, dtype: object"
            ]
          },
          "metadata": {},
          "execution_count": 34
        }
      ]
    },
    {
      "cell_type": "code",
      "source": [
        "train[\"summary\"]= train[\"overview\"].apply(lambda x:word_count(x) if type(x)==str else \"\")"
      ],
      "metadata": {
        "id": "q6pkup83tbgr"
      },
      "execution_count": null,
      "outputs": []
    },
    {
      "cell_type": "code",
      "source": [
        "train[\"summary\"]"
      ],
      "metadata": {
        "colab": {
          "base_uri": "https://localhost:8080/"
        },
        "id": "vokB2jDGwDPO",
        "outputId": "07ff7ea0-5233-4de4-d1ac-c94940e46099"
      },
      "execution_count": null,
      "outputs": [
        {
          "output_type": "execute_result",
          "data": {
            "text/plain": [
              "0       {'When': 1, 'Lou': 1, 'become': 1, '``': 1, 'f...\n",
              "1       {'Mia': 2, 'Thermopolis': 1, 'college': 1, 'gr...\n",
              "2       {'Under': 1, 'direction': 1, 'ruthless': 1, 'i...\n",
              "3       {'Vidya': 4, 'Bagchi': 2, 'Balan': 1, 'arrives...\n",
              "4       {'Marine': 1, 'Boy': 1, 'story': 1, 'former': ...\n",
              "                              ...                        \n",
              "2995    {'Military': 1, 'men': 1, 'Rock': 1, 'Reilly':...\n",
              "2996    {'Three': 1, 'girls': 1, '1980s': 1, 'Stockhol...\n",
              "2997    {'Samantha': 1, 'Caine': 1, 'suburban': 1, 'ho...\n",
              "2998    {'Reuben': 2, 'Feffer': 1, 'guy': 1, ''s': 2, ...\n",
              "2999    {'A': 1, 'young': 1, 'man': 1, 'sets': 1, 'unc...\n",
              "Name: summary, Length: 3000, dtype: object"
            ]
          },
          "metadata": {},
          "execution_count": 36
        }
      ]
    },
    {
      "cell_type": "code",
      "source": [
        "def desc_summary(summary):\n",
        "  return dict(sorted(summary.items(), key = lambda item: item[1], reverse = True))\n",
        "\n",
        "\n",
        "train[\"summary\"] = train[\"summary\"].apply(lambda x : desc_summary(x) if type(x)==dict else {}) "
      ],
      "metadata": {
        "id": "iyxHLiuLw27e"
      },
      "execution_count": null,
      "outputs": []
    },
    {
      "cell_type": "code",
      "source": [
        "train[\"summary\"]"
      ],
      "metadata": {
        "colab": {
          "base_uri": "https://localhost:8080/"
        },
        "id": "DSgZM9V3xpOZ",
        "outputId": "85148726-1453-4275-df25-cb8802a20e02"
      },
      "execution_count": null,
      "outputs": [
        {
          "output_type": "execute_result",
          "data": {
            "text/plain": [
              "0       {'When': 1, 'Lou': 1, 'become': 1, '``': 1, 'f...\n",
              "1       {'Mia': 2, 'take': 2, 'Thermopolis': 1, 'colle...\n",
              "2       {'Under': 1, 'direction': 1, 'ruthless': 1, 'i...\n",
              "3       {'Vidya': 4, 'husband': 4, 'Bagchi': 2, 'city'...\n",
              "4       {'Marine': 1, 'Boy': 1, 'story': 1, 'former': ...\n",
              "                              ...                        \n",
              "2995    {'Toni': 2, ''s': 2, 'Military': 1, 'men': 1, ...\n",
              "2996    {'punk': 2, 'Three': 1, 'girls': 1, '1980s': 1...\n",
              "2997    {'Samantha': 1, 'Caine': 1, 'suburban': 1, 'ho...\n",
              "2998    {'Reuben': 2, ''s': 2, 'life': 2, 'Feffer': 1,...\n",
              "2999    {'A': 1, 'young': 1, 'man': 1, 'sets': 1, 'unc...\n",
              "Name: summary, Length: 3000, dtype: object"
            ]
          },
          "metadata": {},
          "execution_count": 38
        }
      ]
    },
    {
      "cell_type": "code",
      "source": [],
      "metadata": {
        "id": "SUx9VxCbxvLF"
      },
      "execution_count": null,
      "outputs": []
    },
    {
      "cell_type": "code",
      "source": [
        "def keywords_sum_total(summary):\n",
        "   \n",
        "   return sum([x[1] for x in summary.items()][:5])/sum(summary.values())\n",
        "train[\"total_sum\"] = train[\"summary\"].apply(lambda x: keywords_sum_total(x) if sum(x.values()) >0 else 0) "
      ],
      "metadata": {
        "id": "oRzql-eT4RGi"
      },
      "execution_count": null,
      "outputs": []
    },
    {
      "cell_type": "code",
      "source": [
        "train[\"total_sum\"] "
      ],
      "metadata": {
        "colab": {
          "base_uri": "https://localhost:8080/"
        },
        "id": "TuIWufp78qdT",
        "outputId": "e82ab42d-5548-487d-c239-0a13a8bb351a"
      },
      "execution_count": null,
      "outputs": [
        {
          "output_type": "execute_result",
          "data": {
            "text/plain": [
              "0       0.294118\n",
              "1       0.189189\n",
              "2       0.384615\n",
              "3       0.241379\n",
              "4       0.312500\n",
              "          ...   \n",
              "2995    0.250000\n",
              "2996    0.400000\n",
              "2997    0.135135\n",
              "2998    0.235294\n",
              "2999    0.384615\n",
              "Name: total_sum, Length: 3000, dtype: float64"
            ]
          },
          "metadata": {},
          "execution_count": 42
        }
      ]
    },
    {
      "cell_type": "code",
      "source": [
        "truck = train.copy(True)\n",
        "truck[\"sum_popularity\"] = truck[\"total_sum\"]*truck[\"popularity\"]\n",
        "truck[\"sum_popularity\"]"
      ],
      "metadata": {
        "colab": {
          "base_uri": "https://localhost:8080/"
        },
        "id": "JHkKPYRT8Av6",
        "outputId": "7719f09e-5aab-4c0b-edc3-6062068c0277"
      },
      "execution_count": null,
      "outputs": [
        {
          "output_type": "execute_result",
          "data": {
            "text/plain": [
              "0        1.933939\n",
              "1        1.560602\n",
              "2       24.730765\n",
              "3        0.766364\n",
              "4        0.358772\n",
              "          ...    \n",
              "2995     2.463318\n",
              "2996     1.491198\n",
              "2997     1.957074\n",
              "2998     3.700128\n",
              "2999     4.043119\n",
              "Name: sum_popularity, Length: 3000, dtype: float64"
            ]
          },
          "metadata": {},
          "execution_count": 40
        }
      ]
    },
    {
      "cell_type": "code",
      "source": [
        "train[\"sum_popularity\"] = train[\"total_sum\"] * train[\"popularity\"]\n",
        "train[\"sum_popularity\"]"
      ],
      "metadata": {
        "colab": {
          "base_uri": "https://localhost:8080/"
        },
        "id": "sBJ3HjlL4Vje",
        "outputId": "b0c2f978-a77c-4492-8a60-240bdb2bf160"
      },
      "execution_count": null,
      "outputs": [
        {
          "output_type": "execute_result",
          "data": {
            "text/plain": [
              "0        1.933939\n",
              "1        1.560602\n",
              "2       24.730765\n",
              "3        0.766364\n",
              "4        0.358772\n",
              "          ...    \n",
              "2995     2.463318\n",
              "2996     1.491198\n",
              "2997     1.957074\n",
              "2998     3.700128\n",
              "2999     4.043119\n",
              "Name: sum_popularity, Length: 3000, dtype: float64"
            ]
          },
          "metadata": {},
          "execution_count": 41
        }
      ]
    },
    {
      "cell_type": "code",
      "source": [
        "train.head()\n"
      ],
      "metadata": {
        "colab": {
          "base_uri": "https://localhost:8080/",
          "height": 704
        },
        "id": "1HunGllVAo_t",
        "outputId": "c0c3bfad-c492-4be0-a2ae-18c29b1f8080"
      },
      "execution_count": null,
      "outputs": [
        {
          "output_type": "execute_result",
          "data": {
            "text/plain": [
              "   id                              belongs_to_collection    budget  \\\n",
              "0   1  [{'id': 313576, 'name': 'Hot Tub Time Machine ...  14000000   \n",
              "1   2  [{'id': 107674, 'name': 'The Princess Diaries ...  40000000   \n",
              "2   3                                                 {}   3300000   \n",
              "3   4                                                 {}   1200000   \n",
              "4   5                                                 {}         0   \n",
              "\n",
              "                            homepage    imdb_id original_language  \\\n",
              "0                                NaN  tt2637294                en   \n",
              "1                                NaN  tt0368933                en   \n",
              "2  http://sonyclassics.com/whiplash/  tt2582802                en   \n",
              "3         http://kahaanithefilm.com/  tt1821480                hi   \n",
              "4                                NaN  tt1380152                ko   \n",
              "\n",
              "                             original_title  \\\n",
              "0                    Hot Tub Time Machine 2   \n",
              "1  The Princess Diaries 2: Royal Engagement   \n",
              "2                                  Whiplash   \n",
              "3                                   Kahaani   \n",
              "4                                      마린보이   \n",
              "\n",
              "                                            overview  popularity  \\\n",
              "0  When Lou, who has become the \"father of the In...    6.575393   \n",
              "1  Mia Thermopolis is now a college graduate and ...    8.248895   \n",
              "2  Under the direction of a ruthless instructor, ...   64.299990   \n",
              "3  Vidya Bagchi (Vidya Balan) arrives in Kolkata ...    3.174936   \n",
              "4  Marine Boy is the story of a former national s...    1.148070   \n",
              "\n",
              "                        poster_path  \\\n",
              "0  /tQtWuwvMf0hCc2QR2tkolwl7c3c.jpg   \n",
              "1  /w9Z7A0GHEhIp7etpj0vyKOeU1Wx.jpg   \n",
              "2  /lIv1QinFqz4dlp5U4lQ6HaiskOZ.jpg   \n",
              "3  /aTXRaPrWSinhcmCrcfJK17urp3F.jpg   \n",
              "4  /m22s7zvkVFDU9ir56PiiqIEWFdT.jpg   \n",
              "\n",
              "                                production_countries release_date  runtime  \\\n",
              "0  [{'iso_3166_1': 'US', 'name': 'United States o...      2/20/15     93.0   \n",
              "1  [{'iso_3166_1': 'US', 'name': 'United States o...       8/6/04    113.0   \n",
              "2  [{'iso_3166_1': 'US', 'name': 'United States o...     10/10/14    105.0   \n",
              "3            [{'iso_3166_1': 'IN', 'name': 'India'}]       3/9/12    122.0   \n",
              "4      [{'iso_3166_1': 'KR', 'name': 'South Korea'}]       2/5/09    118.0   \n",
              "\n",
              "                                    spoken_languages    status  \\\n",
              "0           [{'iso_639_1': 'en', 'name': 'English'}]  Released   \n",
              "1           [{'iso_639_1': 'en', 'name': 'English'}]  Released   \n",
              "2           [{'iso_639_1': 'en', 'name': 'English'}]  Released   \n",
              "3  [{'iso_639_1': 'en', 'name': 'English'}, {'iso...  Released   \n",
              "4           [{'iso_639_1': 'ko', 'name': '한국어/조선말'}]  Released   \n",
              "\n",
              "                                             tagline  \\\n",
              "0  The Laws of Space and Time are About to be Vio...   \n",
              "1  It can take a lifetime to find true love; she'...   \n",
              "2    The road to greatness can take you to the edge.   \n",
              "3                                                NaN   \n",
              "4                                                NaN   \n",
              "\n",
              "                                      title   revenue  num_genres  num_cast  \\\n",
              "0                    Hot Tub Time Machine 2  12314651           1        24   \n",
              "1  The Princess Diaries 2: Royal Engagement  95149435           4        20   \n",
              "2                                  Whiplash  13092000           1        51   \n",
              "3                                   Kahaani  16000000           2         7   \n",
              "4                                Marine Boy   3923970           2         4   \n",
              "\n",
              "   num_crew  runtime_effect  num_prod_companies  num_Keywords  \\\n",
              "0        72        1.159748                   3             4   \n",
              "1         9        0.954483                   1             4   \n",
              "2        64        1.027205                   3            12   \n",
              "3         3        0.884070                   0             7   \n",
              "4         2        0.914039                   0             0   \n",
              "\n",
              "   keyword_woman director  keyword_independent film  \\\n",
              "0                       0                         0   \n",
              "1                       0                         0   \n",
              "2                       0                         0   \n",
              "3                       0                         0   \n",
              "4                       0                         0   \n",
              "\n",
              "   keyword_duringcreditsstinger  keyword_murder  keyword_based on novel  \\\n",
              "0                             1               0                       0   \n",
              "1                             0               0                       0   \n",
              "2                             0               0                       0   \n",
              "3                             0               0                       0   \n",
              "4                             0               0                       0   \n",
              "\n",
              "   keyword_violence  keyword_sport  keyword_biography  \\\n",
              "0                 0              0                  0   \n",
              "1                 0              0                  0   \n",
              "2                 1              0                  0   \n",
              "3                 0              0                  0   \n",
              "4                 0              0                  0   \n",
              "\n",
              "   keyword_aftercreditsstinger  keyword_dystopia  keyword_revenge  \\\n",
              "0                            0                 0                0   \n",
              "1                            0                 0                0   \n",
              "2                            0                 0                0   \n",
              "3                            0                 0                0   \n",
              "4                            0                 0                0   \n",
              "\n",
              "   keyword_friendship  keyword_sex  keyword_suspense  keyword_sequel  \\\n",
              "0                   0            0                 0               1   \n",
              "1                   0            0                 0               0   \n",
              "2                   0            0                 0               0   \n",
              "3                   0            0                 0               0   \n",
              "4                   0            0                 0               0   \n",
              "\n",
              "   keyword_love  keyword_police  keyword_teenager  keyword_nudity  \\\n",
              "0             0               0                 0               0   \n",
              "1             1               0                 0               0   \n",
              "2             0               0                 0               0   \n",
              "3             0               1                 0               0   \n",
              "4             0               0                 0               0   \n",
              "\n",
              "   keyword_female nudity  keyword_drug  keyword_prison  keyword_musical  \\\n",
              "0                      0             0               0                0   \n",
              "1                      0             0               0                0   \n",
              "2                      0             0               0                0   \n",
              "3                      0             0               0                0   \n",
              "4                      0             0               0                0   \n",
              "\n",
              "   keyword_high school  keyword_los angeles  keyword_new york  keyword_family  \\\n",
              "0                    0                    0                 0               0   \n",
              "1                    0                    0                 0               0   \n",
              "2                    0                    0                 1               0   \n",
              "3                    0                    0                 0               0   \n",
              "4                    0                    0                 0               0   \n",
              "\n",
              "   keyword_father son relationship  keyword_kidnapping  keyword_investigation  \\\n",
              "0                                0                   0                      0   \n",
              "1                                0                   0                      0   \n",
              "2                                0                   0                      0   \n",
              "3                                0                   0                      0   \n",
              "4                                0                   0                      0   \n",
              "\n",
              "                                             summary  total_sum  \\\n",
              "0  {'When': 1, 'Lou': 1, 'become': 1, '``': 1, 'f...   0.294118   \n",
              "1  {'Mia': 2, 'take': 2, 'Thermopolis': 1, 'colle...   0.189189   \n",
              "2  {'Under': 1, 'direction': 1, 'ruthless': 1, 'i...   0.384615   \n",
              "3  {'Vidya': 4, 'husband': 4, 'Bagchi': 2, 'city'...   0.241379   \n",
              "4  {'Marine': 1, 'Boy': 1, 'story': 1, 'former': ...   0.312500   \n",
              "\n",
              "   sum_popularity  \n",
              "0        1.933939  \n",
              "1        1.560602  \n",
              "2       24.730765  \n",
              "3        0.766364  \n",
              "4        0.358772  "
            ],
            "text/html": [
              "\n",
              "  <div id=\"df-6f013eee-6cb3-4939-aa43-5f0ae6fd9a97\">\n",
              "    <div class=\"colab-df-container\">\n",
              "      <div>\n",
              "<style scoped>\n",
              "    .dataframe tbody tr th:only-of-type {\n",
              "        vertical-align: middle;\n",
              "    }\n",
              "\n",
              "    .dataframe tbody tr th {\n",
              "        vertical-align: top;\n",
              "    }\n",
              "\n",
              "    .dataframe thead th {\n",
              "        text-align: right;\n",
              "    }\n",
              "</style>\n",
              "<table border=\"1\" class=\"dataframe\">\n",
              "  <thead>\n",
              "    <tr style=\"text-align: right;\">\n",
              "      <th></th>\n",
              "      <th>id</th>\n",
              "      <th>belongs_to_collection</th>\n",
              "      <th>budget</th>\n",
              "      <th>homepage</th>\n",
              "      <th>imdb_id</th>\n",
              "      <th>original_language</th>\n",
              "      <th>original_title</th>\n",
              "      <th>overview</th>\n",
              "      <th>popularity</th>\n",
              "      <th>poster_path</th>\n",
              "      <th>production_countries</th>\n",
              "      <th>release_date</th>\n",
              "      <th>runtime</th>\n",
              "      <th>spoken_languages</th>\n",
              "      <th>status</th>\n",
              "      <th>tagline</th>\n",
              "      <th>title</th>\n",
              "      <th>revenue</th>\n",
              "      <th>num_genres</th>\n",
              "      <th>num_cast</th>\n",
              "      <th>num_crew</th>\n",
              "      <th>runtime_effect</th>\n",
              "      <th>num_prod_companies</th>\n",
              "      <th>num_Keywords</th>\n",
              "      <th>keyword_woman director</th>\n",
              "      <th>keyword_independent film</th>\n",
              "      <th>keyword_duringcreditsstinger</th>\n",
              "      <th>keyword_murder</th>\n",
              "      <th>keyword_based on novel</th>\n",
              "      <th>keyword_violence</th>\n",
              "      <th>keyword_sport</th>\n",
              "      <th>keyword_biography</th>\n",
              "      <th>keyword_aftercreditsstinger</th>\n",
              "      <th>keyword_dystopia</th>\n",
              "      <th>keyword_revenge</th>\n",
              "      <th>keyword_friendship</th>\n",
              "      <th>keyword_sex</th>\n",
              "      <th>keyword_suspense</th>\n",
              "      <th>keyword_sequel</th>\n",
              "      <th>keyword_love</th>\n",
              "      <th>keyword_police</th>\n",
              "      <th>keyword_teenager</th>\n",
              "      <th>keyword_nudity</th>\n",
              "      <th>keyword_female nudity</th>\n",
              "      <th>keyword_drug</th>\n",
              "      <th>keyword_prison</th>\n",
              "      <th>keyword_musical</th>\n",
              "      <th>keyword_high school</th>\n",
              "      <th>keyword_los angeles</th>\n",
              "      <th>keyword_new york</th>\n",
              "      <th>keyword_family</th>\n",
              "      <th>keyword_father son relationship</th>\n",
              "      <th>keyword_kidnapping</th>\n",
              "      <th>keyword_investigation</th>\n",
              "      <th>summary</th>\n",
              "      <th>total_sum</th>\n",
              "      <th>sum_popularity</th>\n",
              "    </tr>\n",
              "  </thead>\n",
              "  <tbody>\n",
              "    <tr>\n",
              "      <th>0</th>\n",
              "      <td>1</td>\n",
              "      <td>[{'id': 313576, 'name': 'Hot Tub Time Machine ...</td>\n",
              "      <td>14000000</td>\n",
              "      <td>NaN</td>\n",
              "      <td>tt2637294</td>\n",
              "      <td>en</td>\n",
              "      <td>Hot Tub Time Machine 2</td>\n",
              "      <td>When Lou, who has become the \"father of the In...</td>\n",
              "      <td>6.575393</td>\n",
              "      <td>/tQtWuwvMf0hCc2QR2tkolwl7c3c.jpg</td>\n",
              "      <td>[{'iso_3166_1': 'US', 'name': 'United States o...</td>\n",
              "      <td>2/20/15</td>\n",
              "      <td>93.0</td>\n",
              "      <td>[{'iso_639_1': 'en', 'name': 'English'}]</td>\n",
              "      <td>Released</td>\n",
              "      <td>The Laws of Space and Time are About to be Vio...</td>\n",
              "      <td>Hot Tub Time Machine 2</td>\n",
              "      <td>12314651</td>\n",
              "      <td>1</td>\n",
              "      <td>24</td>\n",
              "      <td>72</td>\n",
              "      <td>1.159748</td>\n",
              "      <td>3</td>\n",
              "      <td>4</td>\n",
              "      <td>0</td>\n",
              "      <td>0</td>\n",
              "      <td>1</td>\n",
              "      <td>0</td>\n",
              "      <td>0</td>\n",
              "      <td>0</td>\n",
              "      <td>0</td>\n",
              "      <td>0</td>\n",
              "      <td>0</td>\n",
              "      <td>0</td>\n",
              "      <td>0</td>\n",
              "      <td>0</td>\n",
              "      <td>0</td>\n",
              "      <td>0</td>\n",
              "      <td>1</td>\n",
              "      <td>0</td>\n",
              "      <td>0</td>\n",
              "      <td>0</td>\n",
              "      <td>0</td>\n",
              "      <td>0</td>\n",
              "      <td>0</td>\n",
              "      <td>0</td>\n",
              "      <td>0</td>\n",
              "      <td>0</td>\n",
              "      <td>0</td>\n",
              "      <td>0</td>\n",
              "      <td>0</td>\n",
              "      <td>0</td>\n",
              "      <td>0</td>\n",
              "      <td>0</td>\n",
              "      <td>{'When': 1, 'Lou': 1, 'become': 1, '``': 1, 'f...</td>\n",
              "      <td>0.294118</td>\n",
              "      <td>1.933939</td>\n",
              "    </tr>\n",
              "    <tr>\n",
              "      <th>1</th>\n",
              "      <td>2</td>\n",
              "      <td>[{'id': 107674, 'name': 'The Princess Diaries ...</td>\n",
              "      <td>40000000</td>\n",
              "      <td>NaN</td>\n",
              "      <td>tt0368933</td>\n",
              "      <td>en</td>\n",
              "      <td>The Princess Diaries 2: Royal Engagement</td>\n",
              "      <td>Mia Thermopolis is now a college graduate and ...</td>\n",
              "      <td>8.248895</td>\n",
              "      <td>/w9Z7A0GHEhIp7etpj0vyKOeU1Wx.jpg</td>\n",
              "      <td>[{'iso_3166_1': 'US', 'name': 'United States o...</td>\n",
              "      <td>8/6/04</td>\n",
              "      <td>113.0</td>\n",
              "      <td>[{'iso_639_1': 'en', 'name': 'English'}]</td>\n",
              "      <td>Released</td>\n",
              "      <td>It can take a lifetime to find true love; she'...</td>\n",
              "      <td>The Princess Diaries 2: Royal Engagement</td>\n",
              "      <td>95149435</td>\n",
              "      <td>4</td>\n",
              "      <td>20</td>\n",
              "      <td>9</td>\n",
              "      <td>0.954483</td>\n",
              "      <td>1</td>\n",
              "      <td>4</td>\n",
              "      <td>0</td>\n",
              "      <td>0</td>\n",
              "      <td>0</td>\n",
              "      <td>0</td>\n",
              "      <td>0</td>\n",
              "      <td>0</td>\n",
              "      <td>0</td>\n",
              "      <td>0</td>\n",
              "      <td>0</td>\n",
              "      <td>0</td>\n",
              "      <td>0</td>\n",
              "      <td>0</td>\n",
              "      <td>0</td>\n",
              "      <td>0</td>\n",
              "      <td>0</td>\n",
              "      <td>1</td>\n",
              "      <td>0</td>\n",
              "      <td>0</td>\n",
              "      <td>0</td>\n",
              "      <td>0</td>\n",
              "      <td>0</td>\n",
              "      <td>0</td>\n",
              "      <td>0</td>\n",
              "      <td>0</td>\n",
              "      <td>0</td>\n",
              "      <td>0</td>\n",
              "      <td>0</td>\n",
              "      <td>0</td>\n",
              "      <td>0</td>\n",
              "      <td>0</td>\n",
              "      <td>{'Mia': 2, 'take': 2, 'Thermopolis': 1, 'colle...</td>\n",
              "      <td>0.189189</td>\n",
              "      <td>1.560602</td>\n",
              "    </tr>\n",
              "    <tr>\n",
              "      <th>2</th>\n",
              "      <td>3</td>\n",
              "      <td>{}</td>\n",
              "      <td>3300000</td>\n",
              "      <td>http://sonyclassics.com/whiplash/</td>\n",
              "      <td>tt2582802</td>\n",
              "      <td>en</td>\n",
              "      <td>Whiplash</td>\n",
              "      <td>Under the direction of a ruthless instructor, ...</td>\n",
              "      <td>64.299990</td>\n",
              "      <td>/lIv1QinFqz4dlp5U4lQ6HaiskOZ.jpg</td>\n",
              "      <td>[{'iso_3166_1': 'US', 'name': 'United States o...</td>\n",
              "      <td>10/10/14</td>\n",
              "      <td>105.0</td>\n",
              "      <td>[{'iso_639_1': 'en', 'name': 'English'}]</td>\n",
              "      <td>Released</td>\n",
              "      <td>The road to greatness can take you to the edge.</td>\n",
              "      <td>Whiplash</td>\n",
              "      <td>13092000</td>\n",
              "      <td>1</td>\n",
              "      <td>51</td>\n",
              "      <td>64</td>\n",
              "      <td>1.027205</td>\n",
              "      <td>3</td>\n",
              "      <td>12</td>\n",
              "      <td>0</td>\n",
              "      <td>0</td>\n",
              "      <td>0</td>\n",
              "      <td>0</td>\n",
              "      <td>0</td>\n",
              "      <td>1</td>\n",
              "      <td>0</td>\n",
              "      <td>0</td>\n",
              "      <td>0</td>\n",
              "      <td>0</td>\n",
              "      <td>0</td>\n",
              "      <td>0</td>\n",
              "      <td>0</td>\n",
              "      <td>0</td>\n",
              "      <td>0</td>\n",
              "      <td>0</td>\n",
              "      <td>0</td>\n",
              "      <td>0</td>\n",
              "      <td>0</td>\n",
              "      <td>0</td>\n",
              "      <td>0</td>\n",
              "      <td>0</td>\n",
              "      <td>0</td>\n",
              "      <td>0</td>\n",
              "      <td>0</td>\n",
              "      <td>1</td>\n",
              "      <td>0</td>\n",
              "      <td>0</td>\n",
              "      <td>0</td>\n",
              "      <td>0</td>\n",
              "      <td>{'Under': 1, 'direction': 1, 'ruthless': 1, 'i...</td>\n",
              "      <td>0.384615</td>\n",
              "      <td>24.730765</td>\n",
              "    </tr>\n",
              "    <tr>\n",
              "      <th>3</th>\n",
              "      <td>4</td>\n",
              "      <td>{}</td>\n",
              "      <td>1200000</td>\n",
              "      <td>http://kahaanithefilm.com/</td>\n",
              "      <td>tt1821480</td>\n",
              "      <td>hi</td>\n",
              "      <td>Kahaani</td>\n",
              "      <td>Vidya Bagchi (Vidya Balan) arrives in Kolkata ...</td>\n",
              "      <td>3.174936</td>\n",
              "      <td>/aTXRaPrWSinhcmCrcfJK17urp3F.jpg</td>\n",
              "      <td>[{'iso_3166_1': 'IN', 'name': 'India'}]</td>\n",
              "      <td>3/9/12</td>\n",
              "      <td>122.0</td>\n",
              "      <td>[{'iso_639_1': 'en', 'name': 'English'}, {'iso...</td>\n",
              "      <td>Released</td>\n",
              "      <td>NaN</td>\n",
              "      <td>Kahaani</td>\n",
              "      <td>16000000</td>\n",
              "      <td>2</td>\n",
              "      <td>7</td>\n",
              "      <td>3</td>\n",
              "      <td>0.884070</td>\n",
              "      <td>0</td>\n",
              "      <td>7</td>\n",
              "      <td>0</td>\n",
              "      <td>0</td>\n",
              "      <td>0</td>\n",
              "      <td>0</td>\n",
              "      <td>0</td>\n",
              "      <td>0</td>\n",
              "      <td>0</td>\n",
              "      <td>0</td>\n",
              "      <td>0</td>\n",
              "      <td>0</td>\n",
              "      <td>0</td>\n",
              "      <td>0</td>\n",
              "      <td>0</td>\n",
              "      <td>0</td>\n",
              "      <td>0</td>\n",
              "      <td>0</td>\n",
              "      <td>1</td>\n",
              "      <td>0</td>\n",
              "      <td>0</td>\n",
              "      <td>0</td>\n",
              "      <td>0</td>\n",
              "      <td>0</td>\n",
              "      <td>0</td>\n",
              "      <td>0</td>\n",
              "      <td>0</td>\n",
              "      <td>0</td>\n",
              "      <td>0</td>\n",
              "      <td>0</td>\n",
              "      <td>0</td>\n",
              "      <td>0</td>\n",
              "      <td>{'Vidya': 4, 'husband': 4, 'Bagchi': 2, 'city'...</td>\n",
              "      <td>0.241379</td>\n",
              "      <td>0.766364</td>\n",
              "    </tr>\n",
              "    <tr>\n",
              "      <th>4</th>\n",
              "      <td>5</td>\n",
              "      <td>{}</td>\n",
              "      <td>0</td>\n",
              "      <td>NaN</td>\n",
              "      <td>tt1380152</td>\n",
              "      <td>ko</td>\n",
              "      <td>마린보이</td>\n",
              "      <td>Marine Boy is the story of a former national s...</td>\n",
              "      <td>1.148070</td>\n",
              "      <td>/m22s7zvkVFDU9ir56PiiqIEWFdT.jpg</td>\n",
              "      <td>[{'iso_3166_1': 'KR', 'name': 'South Korea'}]</td>\n",
              "      <td>2/5/09</td>\n",
              "      <td>118.0</td>\n",
              "      <td>[{'iso_639_1': 'ko', 'name': '한국어/조선말'}]</td>\n",
              "      <td>Released</td>\n",
              "      <td>NaN</td>\n",
              "      <td>Marine Boy</td>\n",
              "      <td>3923970</td>\n",
              "      <td>2</td>\n",
              "      <td>4</td>\n",
              "      <td>2</td>\n",
              "      <td>0.914039</td>\n",
              "      <td>0</td>\n",
              "      <td>0</td>\n",
              "      <td>0</td>\n",
              "      <td>0</td>\n",
              "      <td>0</td>\n",
              "      <td>0</td>\n",
              "      <td>0</td>\n",
              "      <td>0</td>\n",
              "      <td>0</td>\n",
              "      <td>0</td>\n",
              "      <td>0</td>\n",
              "      <td>0</td>\n",
              "      <td>0</td>\n",
              "      <td>0</td>\n",
              "      <td>0</td>\n",
              "      <td>0</td>\n",
              "      <td>0</td>\n",
              "      <td>0</td>\n",
              "      <td>0</td>\n",
              "      <td>0</td>\n",
              "      <td>0</td>\n",
              "      <td>0</td>\n",
              "      <td>0</td>\n",
              "      <td>0</td>\n",
              "      <td>0</td>\n",
              "      <td>0</td>\n",
              "      <td>0</td>\n",
              "      <td>0</td>\n",
              "      <td>0</td>\n",
              "      <td>0</td>\n",
              "      <td>0</td>\n",
              "      <td>0</td>\n",
              "      <td>{'Marine': 1, 'Boy': 1, 'story': 1, 'former': ...</td>\n",
              "      <td>0.312500</td>\n",
              "      <td>0.358772</td>\n",
              "    </tr>\n",
              "  </tbody>\n",
              "</table>\n",
              "</div>\n",
              "      <button class=\"colab-df-convert\" onclick=\"convertToInteractive('df-6f013eee-6cb3-4939-aa43-5f0ae6fd9a97')\"\n",
              "              title=\"Convert this dataframe to an interactive table.\"\n",
              "              style=\"display:none;\">\n",
              "        \n",
              "  <svg xmlns=\"http://www.w3.org/2000/svg\" height=\"24px\"viewBox=\"0 0 24 24\"\n",
              "       width=\"24px\">\n",
              "    <path d=\"M0 0h24v24H0V0z\" fill=\"none\"/>\n",
              "    <path d=\"M18.56 5.44l.94 2.06.94-2.06 2.06-.94-2.06-.94-.94-2.06-.94 2.06-2.06.94zm-11 1L8.5 8.5l.94-2.06 2.06-.94-2.06-.94L8.5 2.5l-.94 2.06-2.06.94zm10 10l.94 2.06.94-2.06 2.06-.94-2.06-.94-.94-2.06-.94 2.06-2.06.94z\"/><path d=\"M17.41 7.96l-1.37-1.37c-.4-.4-.92-.59-1.43-.59-.52 0-1.04.2-1.43.59L10.3 9.45l-7.72 7.72c-.78.78-.78 2.05 0 2.83L4 21.41c.39.39.9.59 1.41.59.51 0 1.02-.2 1.41-.59l7.78-7.78 2.81-2.81c.8-.78.8-2.07 0-2.86zM5.41 20L4 18.59l7.72-7.72 1.47 1.35L5.41 20z\"/>\n",
              "  </svg>\n",
              "      </button>\n",
              "      \n",
              "  <style>\n",
              "    .colab-df-container {\n",
              "      display:flex;\n",
              "      flex-wrap:wrap;\n",
              "      gap: 12px;\n",
              "    }\n",
              "\n",
              "    .colab-df-convert {\n",
              "      background-color: #E8F0FE;\n",
              "      border: none;\n",
              "      border-radius: 50%;\n",
              "      cursor: pointer;\n",
              "      display: none;\n",
              "      fill: #1967D2;\n",
              "      height: 32px;\n",
              "      padding: 0 0 0 0;\n",
              "      width: 32px;\n",
              "    }\n",
              "\n",
              "    .colab-df-convert:hover {\n",
              "      background-color: #E2EBFA;\n",
              "      box-shadow: 0px 1px 2px rgba(60, 64, 67, 0.3), 0px 1px 3px 1px rgba(60, 64, 67, 0.15);\n",
              "      fill: #174EA6;\n",
              "    }\n",
              "\n",
              "    [theme=dark] .colab-df-convert {\n",
              "      background-color: #3B4455;\n",
              "      fill: #D2E3FC;\n",
              "    }\n",
              "\n",
              "    [theme=dark] .colab-df-convert:hover {\n",
              "      background-color: #434B5C;\n",
              "      box-shadow: 0px 1px 3px 1px rgba(0, 0, 0, 0.15);\n",
              "      filter: drop-shadow(0px 1px 2px rgba(0, 0, 0, 0.3));\n",
              "      fill: #FFFFFF;\n",
              "    }\n",
              "  </style>\n",
              "\n",
              "      <script>\n",
              "        const buttonEl =\n",
              "          document.querySelector('#df-6f013eee-6cb3-4939-aa43-5f0ae6fd9a97 button.colab-df-convert');\n",
              "        buttonEl.style.display =\n",
              "          google.colab.kernel.accessAllowed ? 'block' : 'none';\n",
              "\n",
              "        async function convertToInteractive(key) {\n",
              "          const element = document.querySelector('#df-6f013eee-6cb3-4939-aa43-5f0ae6fd9a97');\n",
              "          const dataTable =\n",
              "            await google.colab.kernel.invokeFunction('convertToInteractive',\n",
              "                                                     [key], {});\n",
              "          if (!dataTable) return;\n",
              "\n",
              "          const docLinkHtml = 'Like what you see? Visit the ' +\n",
              "            '<a target=\"_blank\" href=https://colab.research.google.com/notebooks/data_table.ipynb>data table notebook</a>'\n",
              "            + ' to learn more about interactive tables.';\n",
              "          element.innerHTML = '';\n",
              "          dataTable['output_type'] = 'display_data';\n",
              "          await google.colab.output.renderOutput(dataTable, element);\n",
              "          const docLink = document.createElement('div');\n",
              "          docLink.innerHTML = docLinkHtml;\n",
              "          element.appendChild(docLink);\n",
              "        }\n",
              "      </script>\n",
              "    </div>\n",
              "  </div>\n",
              "  "
            ]
          },
          "metadata": {},
          "execution_count": 43
        }
      ]
    },
    {
      "cell_type": "code",
      "source": [
        "train[\"hitorflop\"] = train[\"revenue\"]>train[\"budget\"]\n",
        "print(sum(train[\"hitorflop\"]))\n",
        "train[\"hitorflop\"]=train[\"hitorflop\"].apply(lambda x: 1 if x else 0)\n",
        "train[\"hitorflop\"]"
      ],
      "metadata": {
        "colab": {
          "base_uri": "https://localhost:8080/"
        },
        "id": "ewt91j1yaQPq",
        "outputId": "d128b9bb-f6db-47f4-a297-d2195b5254d3"
      },
      "execution_count": null,
      "outputs": [
        {
          "output_type": "stream",
          "name": "stdout",
          "text": [
            "2337\n"
          ]
        },
        {
          "output_type": "execute_result",
          "data": {
            "text/plain": [
              "0       0\n",
              "1       1\n",
              "2       1\n",
              "3       1\n",
              "4       1\n",
              "       ..\n",
              "2995    1\n",
              "2996    1\n",
              "2997    1\n",
              "2998    1\n",
              "2999    1\n",
              "Name: hitorflop, Length: 3000, dtype: int64"
            ]
          },
          "metadata": {},
          "execution_count": 44
        }
      ]
    },
    {
      "cell_type": "code",
      "source": [
        "from sklearn import metrics\n",
        "from sklearn.model_selection import train_test_split\n",
        "dummy = train[[\"budget\",\"popularity\",\"runtime\",\"num_genres\",\"num_cast\",\"num_crew\",\"runtime_effect\",\"num_prod_companies\",\"num_Keywords\",\"total_sum\",\"hitorflop\"]].copy()\n",
        "dummy = dummy.dropna()\n",
        "dummy[\"runtime_effect\"] = dummy[\"runtime_effect\"].apply(lambda x: x if np.isfinite(x) else 0)\n",
        "\n",
        "\n",
        "X = dummy[[\"budget\",\"popularity\",\"runtime\",\"num_genres\",\"num_cast\",\"num_crew\",\"runtime_effect\",\"num_prod_companies\",\"num_Keywords\",\"total_sum\"]].copy()\n",
        "y = dummy[\"hitorflop\"]\n",
        "\n",
        "\n",
        "X_train, X_test, y_train, y_test = train_test_split(X, y, test_size=0.20)"
      ],
      "metadata": {
        "id": "9bzJ0twWAqxO"
      },
      "execution_count": null,
      "outputs": []
    },
    {
      "cell_type": "code",
      "source": [
        "X_train"
      ],
      "metadata": {
        "colab": {
          "base_uri": "https://localhost:8080/",
          "height": 424
        },
        "id": "9yOy5fcGBJ9Q",
        "outputId": "4d90be72-cde8-4e25-df15-2705f07bab84"
      },
      "execution_count": null,
      "outputs": [
        {
          "output_type": "execute_result",
          "data": {
            "text/plain": [
              "        budget  popularity  runtime  num_genres  num_cast  num_crew  \\\n",
              "441          0   10.200553     94.0           2        17        33   \n",
              "194    4500000    3.311392     97.0           2        12         5   \n",
              "1679     60000   14.838386     81.0           2        10        28   \n",
              "700   25000000    7.409179     94.0           3        17        15   \n",
              "1947  25000000    1.862215    117.0           2        13         1   \n",
              "...        ...         ...      ...         ...       ...       ...   \n",
              "384   55000000   10.571434    163.0           1        73        44   \n",
              "2102   9900000   25.869883     88.0           3        12        34   \n",
              "2524         0    1.824275     99.0           3         9        11   \n",
              "2395         0    5.752416    115.0           2        11        39   \n",
              "1251   7500000    5.795045     93.0           2         8         6   \n",
              "\n",
              "      runtime_effect  num_prod_companies  num_Keywords  total_sum  \n",
              "441         1.147410                   3             0   0.312500  \n",
              "194         1.111923                   1             2   0.250000  \n",
              "1679        1.331563                   2            13   0.277778  \n",
              "700         1.147410                   2            27   0.239130  \n",
              "1947        0.921851                   1             5   0.195122  \n",
              "...              ...                 ...           ...        ...  \n",
              "384         0.661697                   3             6   0.263158  \n",
              "2102        1.225643                   6             9   0.294118  \n",
              "2524        1.089460                   1             0   0.200000  \n",
              "2395        0.937883                  15             5   0.416667  \n",
              "1251        1.159748                   2             6   0.256410  \n",
              "\n",
              "[2398 rows x 10 columns]"
            ],
            "text/html": [
              "\n",
              "  <div id=\"df-9e677ad6-1e54-4add-a251-52519acf00fb\">\n",
              "    <div class=\"colab-df-container\">\n",
              "      <div>\n",
              "<style scoped>\n",
              "    .dataframe tbody tr th:only-of-type {\n",
              "        vertical-align: middle;\n",
              "    }\n",
              "\n",
              "    .dataframe tbody tr th {\n",
              "        vertical-align: top;\n",
              "    }\n",
              "\n",
              "    .dataframe thead th {\n",
              "        text-align: right;\n",
              "    }\n",
              "</style>\n",
              "<table border=\"1\" class=\"dataframe\">\n",
              "  <thead>\n",
              "    <tr style=\"text-align: right;\">\n",
              "      <th></th>\n",
              "      <th>budget</th>\n",
              "      <th>popularity</th>\n",
              "      <th>runtime</th>\n",
              "      <th>num_genres</th>\n",
              "      <th>num_cast</th>\n",
              "      <th>num_crew</th>\n",
              "      <th>runtime_effect</th>\n",
              "      <th>num_prod_companies</th>\n",
              "      <th>num_Keywords</th>\n",
              "      <th>total_sum</th>\n",
              "    </tr>\n",
              "  </thead>\n",
              "  <tbody>\n",
              "    <tr>\n",
              "      <th>441</th>\n",
              "      <td>0</td>\n",
              "      <td>10.200553</td>\n",
              "      <td>94.0</td>\n",
              "      <td>2</td>\n",
              "      <td>17</td>\n",
              "      <td>33</td>\n",
              "      <td>1.147410</td>\n",
              "      <td>3</td>\n",
              "      <td>0</td>\n",
              "      <td>0.312500</td>\n",
              "    </tr>\n",
              "    <tr>\n",
              "      <th>194</th>\n",
              "      <td>4500000</td>\n",
              "      <td>3.311392</td>\n",
              "      <td>97.0</td>\n",
              "      <td>2</td>\n",
              "      <td>12</td>\n",
              "      <td>5</td>\n",
              "      <td>1.111923</td>\n",
              "      <td>1</td>\n",
              "      <td>2</td>\n",
              "      <td>0.250000</td>\n",
              "    </tr>\n",
              "    <tr>\n",
              "      <th>1679</th>\n",
              "      <td>60000</td>\n",
              "      <td>14.838386</td>\n",
              "      <td>81.0</td>\n",
              "      <td>2</td>\n",
              "      <td>10</td>\n",
              "      <td>28</td>\n",
              "      <td>1.331563</td>\n",
              "      <td>2</td>\n",
              "      <td>13</td>\n",
              "      <td>0.277778</td>\n",
              "    </tr>\n",
              "    <tr>\n",
              "      <th>700</th>\n",
              "      <td>25000000</td>\n",
              "      <td>7.409179</td>\n",
              "      <td>94.0</td>\n",
              "      <td>3</td>\n",
              "      <td>17</td>\n",
              "      <td>15</td>\n",
              "      <td>1.147410</td>\n",
              "      <td>2</td>\n",
              "      <td>27</td>\n",
              "      <td>0.239130</td>\n",
              "    </tr>\n",
              "    <tr>\n",
              "      <th>1947</th>\n",
              "      <td>25000000</td>\n",
              "      <td>1.862215</td>\n",
              "      <td>117.0</td>\n",
              "      <td>2</td>\n",
              "      <td>13</td>\n",
              "      <td>1</td>\n",
              "      <td>0.921851</td>\n",
              "      <td>1</td>\n",
              "      <td>5</td>\n",
              "      <td>0.195122</td>\n",
              "    </tr>\n",
              "    <tr>\n",
              "      <th>...</th>\n",
              "      <td>...</td>\n",
              "      <td>...</td>\n",
              "      <td>...</td>\n",
              "      <td>...</td>\n",
              "      <td>...</td>\n",
              "      <td>...</td>\n",
              "      <td>...</td>\n",
              "      <td>...</td>\n",
              "      <td>...</td>\n",
              "      <td>...</td>\n",
              "    </tr>\n",
              "    <tr>\n",
              "      <th>384</th>\n",
              "      <td>55000000</td>\n",
              "      <td>10.571434</td>\n",
              "      <td>163.0</td>\n",
              "      <td>1</td>\n",
              "      <td>73</td>\n",
              "      <td>44</td>\n",
              "      <td>0.661697</td>\n",
              "      <td>3</td>\n",
              "      <td>6</td>\n",
              "      <td>0.263158</td>\n",
              "    </tr>\n",
              "    <tr>\n",
              "      <th>2102</th>\n",
              "      <td>9900000</td>\n",
              "      <td>25.869883</td>\n",
              "      <td>88.0</td>\n",
              "      <td>3</td>\n",
              "      <td>12</td>\n",
              "      <td>34</td>\n",
              "      <td>1.225643</td>\n",
              "      <td>6</td>\n",
              "      <td>9</td>\n",
              "      <td>0.294118</td>\n",
              "    </tr>\n",
              "    <tr>\n",
              "      <th>2524</th>\n",
              "      <td>0</td>\n",
              "      <td>1.824275</td>\n",
              "      <td>99.0</td>\n",
              "      <td>3</td>\n",
              "      <td>9</td>\n",
              "      <td>11</td>\n",
              "      <td>1.089460</td>\n",
              "      <td>1</td>\n",
              "      <td>0</td>\n",
              "      <td>0.200000</td>\n",
              "    </tr>\n",
              "    <tr>\n",
              "      <th>2395</th>\n",
              "      <td>0</td>\n",
              "      <td>5.752416</td>\n",
              "      <td>115.0</td>\n",
              "      <td>2</td>\n",
              "      <td>11</td>\n",
              "      <td>39</td>\n",
              "      <td>0.937883</td>\n",
              "      <td>15</td>\n",
              "      <td>5</td>\n",
              "      <td>0.416667</td>\n",
              "    </tr>\n",
              "    <tr>\n",
              "      <th>1251</th>\n",
              "      <td>7500000</td>\n",
              "      <td>5.795045</td>\n",
              "      <td>93.0</td>\n",
              "      <td>2</td>\n",
              "      <td>8</td>\n",
              "      <td>6</td>\n",
              "      <td>1.159748</td>\n",
              "      <td>2</td>\n",
              "      <td>6</td>\n",
              "      <td>0.256410</td>\n",
              "    </tr>\n",
              "  </tbody>\n",
              "</table>\n",
              "<p>2398 rows × 10 columns</p>\n",
              "</div>\n",
              "      <button class=\"colab-df-convert\" onclick=\"convertToInteractive('df-9e677ad6-1e54-4add-a251-52519acf00fb')\"\n",
              "              title=\"Convert this dataframe to an interactive table.\"\n",
              "              style=\"display:none;\">\n",
              "        \n",
              "  <svg xmlns=\"http://www.w3.org/2000/svg\" height=\"24px\"viewBox=\"0 0 24 24\"\n",
              "       width=\"24px\">\n",
              "    <path d=\"M0 0h24v24H0V0z\" fill=\"none\"/>\n",
              "    <path d=\"M18.56 5.44l.94 2.06.94-2.06 2.06-.94-2.06-.94-.94-2.06-.94 2.06-2.06.94zm-11 1L8.5 8.5l.94-2.06 2.06-.94-2.06-.94L8.5 2.5l-.94 2.06-2.06.94zm10 10l.94 2.06.94-2.06 2.06-.94-2.06-.94-.94-2.06-.94 2.06-2.06.94z\"/><path d=\"M17.41 7.96l-1.37-1.37c-.4-.4-.92-.59-1.43-.59-.52 0-1.04.2-1.43.59L10.3 9.45l-7.72 7.72c-.78.78-.78 2.05 0 2.83L4 21.41c.39.39.9.59 1.41.59.51 0 1.02-.2 1.41-.59l7.78-7.78 2.81-2.81c.8-.78.8-2.07 0-2.86zM5.41 20L4 18.59l7.72-7.72 1.47 1.35L5.41 20z\"/>\n",
              "  </svg>\n",
              "      </button>\n",
              "      \n",
              "  <style>\n",
              "    .colab-df-container {\n",
              "      display:flex;\n",
              "      flex-wrap:wrap;\n",
              "      gap: 12px;\n",
              "    }\n",
              "\n",
              "    .colab-df-convert {\n",
              "      background-color: #E8F0FE;\n",
              "      border: none;\n",
              "      border-radius: 50%;\n",
              "      cursor: pointer;\n",
              "      display: none;\n",
              "      fill: #1967D2;\n",
              "      height: 32px;\n",
              "      padding: 0 0 0 0;\n",
              "      width: 32px;\n",
              "    }\n",
              "\n",
              "    .colab-df-convert:hover {\n",
              "      background-color: #E2EBFA;\n",
              "      box-shadow: 0px 1px 2px rgba(60, 64, 67, 0.3), 0px 1px 3px 1px rgba(60, 64, 67, 0.15);\n",
              "      fill: #174EA6;\n",
              "    }\n",
              "\n",
              "    [theme=dark] .colab-df-convert {\n",
              "      background-color: #3B4455;\n",
              "      fill: #D2E3FC;\n",
              "    }\n",
              "\n",
              "    [theme=dark] .colab-df-convert:hover {\n",
              "      background-color: #434B5C;\n",
              "      box-shadow: 0px 1px 3px 1px rgba(0, 0, 0, 0.15);\n",
              "      filter: drop-shadow(0px 1px 2px rgba(0, 0, 0, 0.3));\n",
              "      fill: #FFFFFF;\n",
              "    }\n",
              "  </style>\n",
              "\n",
              "      <script>\n",
              "        const buttonEl =\n",
              "          document.querySelector('#df-9e677ad6-1e54-4add-a251-52519acf00fb button.colab-df-convert');\n",
              "        buttonEl.style.display =\n",
              "          google.colab.kernel.accessAllowed ? 'block' : 'none';\n",
              "\n",
              "        async function convertToInteractive(key) {\n",
              "          const element = document.querySelector('#df-9e677ad6-1e54-4add-a251-52519acf00fb');\n",
              "          const dataTable =\n",
              "            await google.colab.kernel.invokeFunction('convertToInteractive',\n",
              "                                                     [key], {});\n",
              "          if (!dataTable) return;\n",
              "\n",
              "          const docLinkHtml = 'Like what you see? Visit the ' +\n",
              "            '<a target=\"_blank\" href=https://colab.research.google.com/notebooks/data_table.ipynb>data table notebook</a>'\n",
              "            + ' to learn more about interactive tables.';\n",
              "          element.innerHTML = '';\n",
              "          dataTable['output_type'] = 'display_data';\n",
              "          await google.colab.output.renderOutput(dataTable, element);\n",
              "          const docLink = document.createElement('div');\n",
              "          docLink.innerHTML = docLinkHtml;\n",
              "          element.appendChild(docLink);\n",
              "        }\n",
              "      </script>\n",
              "    </div>\n",
              "  </div>\n",
              "  "
            ]
          },
          "metadata": {},
          "execution_count": 46
        }
      ]
    },
    {
      "cell_type": "code",
      "source": [
        "y.head()"
      ],
      "metadata": {
        "colab": {
          "base_uri": "https://localhost:8080/"
        },
        "id": "zRsdTK0_URzn",
        "outputId": "aa2798ec-b011-442f-b9b1-7a10552736a5"
      },
      "execution_count": null,
      "outputs": [
        {
          "output_type": "execute_result",
          "data": {
            "text/plain": [
              "0    0\n",
              "1    1\n",
              "2    1\n",
              "3    1\n",
              "4    1\n",
              "Name: hitorflop, dtype: int64"
            ]
          },
          "metadata": {},
          "execution_count": 47
        }
      ]
    },
    {
      "cell_type": "markdown",
      "source": [
        "### Applying Light Gradient Boosting on data"
      ],
      "metadata": {
        "id": "1GhseQLdGv_R"
      }
    },
    {
      "cell_type": "code",
      "source": [
        "import lightgbm as ltb\n",
        "model = ltb.LGBMClassifier()\n",
        "model.fit(X_train, y_train)\n",
        "print(model)\n",
        "\n",
        "expected_y  = y_test\n",
        "predicted_y = model.predict(X_test)\n",
        "print(metrics.classification_report(expected_y, predicted_y))\n",
        "print(metrics.confusion_matrix(expected_y, predicted_y))"
      ],
      "metadata": {
        "colab": {
          "base_uri": "https://localhost:8080/"
        },
        "id": "dPi7e31JUUGx",
        "outputId": "a973244d-f54a-4259-8cc1-9328ae9556ee"
      },
      "execution_count": null,
      "outputs": [
        {
          "output_type": "stream",
          "name": "stdout",
          "text": [
            "LGBMClassifier()\n",
            "              precision    recall  f1-score   support\n",
            "\n",
            "           0       0.50      0.38      0.43       128\n",
            "           1       0.84      0.90      0.87       472\n",
            "\n",
            "    accuracy                           0.79       600\n",
            "   macro avg       0.67      0.64      0.65       600\n",
            "weighted avg       0.77      0.79      0.77       600\n",
            "\n",
            "[[ 48  80]\n",
            " [ 48 424]]\n"
          ]
        }
      ]
    },
    {
      "cell_type": "markdown",
      "source": [
        "### Applying Random Forest Classifier on the data"
      ],
      "metadata": {
        "id": "nSnAaUk9FSig"
      }
    },
    {
      "cell_type": "code",
      "source": [
        "#from sklearn.linear_model import LinearRegression\n",
        "\n",
        "import numpy as np\n",
        "\n",
        "\n",
        "from sklearn.ensemble import RandomForestClassifier\n",
        "rf = RandomForestClassifier()\n",
        "rf.fit(X_train, y_train)\n",
        "#print(model)\n",
        "\n",
        "\n",
        "expected_y  = y_test\n",
        "predicted_y = rf.predict(X_test)\n",
        "\n",
        "print(metrics.classification_report(expected_y, predicted_y))\n",
        "print(metrics.confusion_matrix(expected_y, predicted_y))"
      ],
      "metadata": {
        "colab": {
          "base_uri": "https://localhost:8080/"
        },
        "id": "w3ztJVrGVJrP",
        "outputId": "7ee3e15a-b197-4c4b-aafe-48468d43d268"
      },
      "execution_count": null,
      "outputs": [
        {
          "output_type": "stream",
          "name": "stdout",
          "text": [
            "              precision    recall  f1-score   support\n",
            "\n",
            "           0       0.53      0.32      0.40       128\n",
            "           1       0.83      0.92      0.88       472\n",
            "\n",
            "    accuracy                           0.79       600\n",
            "   macro avg       0.68      0.62      0.64       600\n",
            "weighted avg       0.77      0.79      0.77       600\n",
            "\n",
            "[[ 41  87]\n",
            " [ 37 435]]\n"
          ]
        }
      ]
    },
    {
      "cell_type": "markdown",
      "source": [
        "Applying Grid Search CV on Random Forest Classifier to get the best parameters"
      ],
      "metadata": {
        "id": "Y-r_fc3dFgUf"
      }
    },
    {
      "cell_type": "code",
      "source": [
        "param_grid = { \n",
        "    'n_estimators': [100,200,300, 400],\n",
        "    'max_features': ['auto', 'sqrt', 'log2'],\n",
        "    'max_depth' : [3,4,5,6,7,8],\n",
        "    'criterion' :['gini', 'entropy']\n",
        "}\n",
        "\n",
        "CV_rfc = GridSearchCV(estimator=rf, param_grid=param_grid, cv= 5)\n",
        "CV_rfc.fit(X_train, y_train)\n"
      ],
      "metadata": {
        "colab": {
          "base_uri": "https://localhost:8080/"
        },
        "id": "Q7-6E6oEmbSp",
        "outputId": "f9039a84-6b13-40e6-90b2-b48ebf06f0c6"
      },
      "execution_count": null,
      "outputs": [
        {
          "output_type": "execute_result",
          "data": {
            "text/plain": [
              "GridSearchCV(cv=5, estimator=RandomForestClassifier(),\n",
              "             param_grid={'criterion': ['gini', 'entropy'],\n",
              "                         'max_depth': [3, 4, 5, 6, 7, 8],\n",
              "                         'max_features': ['auto', 'sqrt', 'log2'],\n",
              "                         'n_estimators': [100, 200, 300, 400]})"
            ]
          },
          "metadata": {},
          "execution_count": 49
        }
      ]
    },
    {
      "cell_type": "markdown",
      "source": [
        "Best parameters for obtained from Grid Search CV are"
      ],
      "metadata": {
        "id": "V_f3DNBeFqSg"
      }
    },
    {
      "cell_type": "code",
      "source": [
        "CV_rfc.best_params_"
      ],
      "metadata": {
        "colab": {
          "base_uri": "https://localhost:8080/"
        },
        "id": "JZ-eaY28o50L",
        "outputId": "672a303c-7609-4827-de3a-254fae782056"
      },
      "execution_count": null,
      "outputs": [
        {
          "output_type": "execute_result",
          "data": {
            "text/plain": [
              "{'criterion': 'gini',\n",
              " 'max_depth': 8,\n",
              " 'max_features': 'log2',\n",
              " 'n_estimators': 200}"
            ]
          },
          "metadata": {},
          "execution_count": 50
        }
      ]
    },
    {
      "cell_type": "markdown",
      "source": [
        "Using the  above best parameters to fit a model on the data gives the following accuracy"
      ],
      "metadata": {
        "id": "Al5usVvSFyIB"
      }
    },
    {
      "cell_type": "code",
      "source": [
        "rf_best = RandomForestClassifier(criterion= 'gini', max_depth = 8, max_features = 'log2',n_estimators = 200)\n",
        "rf_best.fit(X_train, y_train)\n",
        "#print(model)\n",
        "\n",
        "\n",
        "expected_y  = y_test\n",
        "predicted_y = rf_best.predict(X_test)\n",
        "\n",
        "print(metrics.classification_report(expected_y, predicted_y))\n",
        "print(metrics.confusion_matrix(expected_y, predicted_y))"
      ],
      "metadata": {
        "colab": {
          "base_uri": "https://localhost:8080/"
        },
        "id": "Wi6ZoikTo9n5",
        "outputId": "238658b1-6b37-4eef-f32d-3b9ff3c1f435"
      },
      "execution_count": null,
      "outputs": [
        {
          "output_type": "stream",
          "name": "stdout",
          "text": [
            "              precision    recall  f1-score   support\n",
            "\n",
            "           0       0.60      0.27      0.37       128\n",
            "           1       0.83      0.95      0.88       472\n",
            "\n",
            "    accuracy                           0.81       600\n",
            "   macro avg       0.71      0.61      0.63       600\n",
            "weighted avg       0.78      0.81      0.77       600\n",
            "\n",
            "[[ 34  94]\n",
            " [ 23 449]]\n"
          ]
        }
      ]
    },
    {
      "cell_type": "code",
      "source": [
        "\n"
      ],
      "metadata": {
        "id": "TsXQI7FeiadF"
      },
      "execution_count": null,
      "outputs": []
    },
    {
      "cell_type": "markdown",
      "source": [
        "### Applying Linear Regressor on the data obtained the following accuracy"
      ],
      "metadata": {
        "id": "egfh1XJAGSCe"
      }
    },
    {
      "cell_type": "code",
      "source": [
        "from sklearn.linear_model import LinearRegression\n",
        "lr = LinearRegression()\n",
        "lr.fit(X_train, y_train)\n",
        "#print(model)\n",
        "\n",
        "\n",
        "\n",
        "\n",
        "\n",
        "expected_y  = y_test\n",
        "predicted_y = [0 if x<0.5 else 1 for x in lr.predict(X_test)]\n",
        "\n",
        "print(predicted_y)\n",
        "\n",
        "print(metrics.classification_report(expected_y, predicted_y))\n",
        "print(metrics.confusion_matrix(expected_y, predicted_y))"
      ],
      "metadata": {
        "colab": {
          "base_uri": "https://localhost:8080/"
        },
        "id": "ChBhspMagCOq",
        "outputId": "8981d968-0218-4d04-975a-eee510560bb5"
      },
      "execution_count": null,
      "outputs": [
        {
          "output_type": "stream",
          "name": "stdout",
          "text": [
            "[1, 1, 1, 1, 1, 1, 1, 1, 1, 1, 1, 1, 1, 1, 1, 1, 1, 1, 1, 1, 1, 1, 1, 1, 1, 1, 1, 1, 1, 1, 1, 1, 1, 1, 1, 1, 1, 1, 1, 1, 1, 1, 1, 1, 1, 1, 1, 1, 1, 1, 1, 1, 1, 1, 1, 1, 1, 1, 1, 1, 1, 1, 1, 1, 1, 1, 1, 1, 1, 1, 1, 1, 1, 1, 1, 1, 1, 1, 1, 1, 1, 1, 1, 1, 1, 1, 1, 1, 1, 1, 1, 1, 1, 1, 1, 1, 1, 1, 1, 1, 1, 1, 1, 1, 1, 1, 1, 1, 1, 1, 1, 1, 1, 1, 1, 1, 1, 1, 1, 1, 1, 1, 1, 1, 1, 1, 1, 1, 1, 1, 1, 1, 1, 1, 1, 1, 1, 1, 1, 1, 1, 1, 1, 1, 1, 1, 1, 1, 1, 1, 1, 1, 1, 1, 1, 1, 1, 1, 1, 1, 1, 1, 0, 1, 1, 1, 1, 1, 1, 1, 1, 1, 1, 1, 1, 1, 1, 1, 1, 1, 1, 1, 1, 1, 1, 1, 1, 1, 1, 1, 1, 1, 1, 1, 1, 1, 1, 1, 1, 1, 1, 1, 1, 1, 1, 1, 1, 1, 1, 1, 1, 1, 1, 1, 1, 1, 1, 1, 1, 1, 1, 1, 1, 1, 1, 1, 1, 1, 1, 1, 1, 1, 1, 1, 1, 1, 1, 1, 1, 1, 1, 1, 1, 1, 1, 1, 1, 1, 1, 1, 1, 1, 1, 1, 1, 1, 1, 1, 1, 1, 1, 1, 1, 1, 1, 1, 1, 1, 1, 1, 1, 1, 1, 1, 1, 1, 1, 1, 1, 1, 1, 1, 1, 1, 1, 1, 1, 1, 1, 1, 1, 1, 1, 1, 1, 1, 1, 1, 1, 1, 1, 1, 1, 1, 1, 1, 1, 1, 1, 1, 1, 1, 1, 1, 1, 1, 1, 1, 1, 1, 1, 1, 1, 1, 1, 1, 1, 1, 1, 1, 1, 1, 1, 1, 1, 1, 1, 1, 1, 1, 1, 1, 1, 1, 1, 1, 1, 1, 1, 1, 1, 1, 1, 1, 1, 1, 1, 1, 1, 1, 1, 1, 1, 1, 1, 1, 1, 1, 1, 1, 1, 1, 1, 1, 1, 1, 1, 1, 1, 1, 1, 1, 1, 1, 1, 1, 1, 1, 1, 1, 1, 1, 1, 1, 1, 1, 1, 1, 1, 1, 1, 1, 1, 1, 1, 1, 1, 1, 1, 1, 1, 1, 1, 1, 1, 1, 1, 1, 1, 1, 1, 1, 1, 1, 1, 1, 1, 1, 1, 1, 1, 1, 1, 1, 1, 1, 1, 1, 1, 1, 1, 1, 1, 1, 1, 1, 0, 1, 1, 1, 1, 1, 1, 1, 1, 1, 1, 1, 1, 1, 1, 1, 1, 1, 1, 1, 1, 1, 1, 1, 1, 1, 1, 1, 1, 1, 1, 1, 1, 1, 1, 1, 1, 1, 1, 1, 1, 1, 1, 1, 1, 1, 1, 1, 1, 1, 1, 1, 1, 1, 1, 1, 1, 1, 1, 1, 1, 1, 1, 1, 1, 1, 1, 1, 1, 1, 1, 1, 1, 1, 1, 1, 1, 1, 1, 1, 1, 1, 1, 1, 1, 1, 1, 1, 1, 1, 1, 1, 1, 1, 1, 1, 1, 1, 1, 1, 1, 1, 1, 1, 1, 1, 1, 1, 1, 1, 1, 1, 1, 1, 1, 1, 1, 1, 1, 1, 1, 1, 1, 1, 1, 1, 1, 1, 1, 1, 1, 1, 1, 1, 1, 1, 1, 1, 1, 1, 1, 1, 1, 1, 1, 1, 1, 1, 1, 1, 1, 1, 1, 1]\n",
            "              precision    recall  f1-score   support\n",
            "\n",
            "           0       0.50      0.01      0.02       125\n",
            "           1       0.79      1.00      0.88       475\n",
            "\n",
            "    accuracy                           0.79       600\n",
            "   macro avg       0.65      0.50      0.45       600\n",
            "weighted avg       0.73      0.79      0.70       600\n",
            "\n",
            "[[  1 124]\n",
            " [  1 474]]\n"
          ]
        }
      ]
    },
    {
      "cell_type": "code",
      "source": [
        "from sklearn.metrics import mean_squared_error\n",
        "\n",
        "rmse = mean_squared_error(y,Y,squared=False)\n",
        "print(rmse)"
      ],
      "metadata": {
        "colab": {
          "base_uri": "https://localhost:8080/"
        },
        "id": "RKOQ-P5JX2fd",
        "outputId": "7f57e1e1-db52-4f3c-fe76-7073a9e19246"
      },
      "execution_count": null,
      "outputs": [
        {
          "output_type": "stream",
          "name": "stdout",
          "text": [
            "0.1770122406313567\n"
          ]
        }
      ]
    },
    {
      "cell_type": "markdown",
      "source": [
        "### Grid Search CV on Light Gradient Boosting "
      ],
      "metadata": {
        "id": "rRTfHZNjEZWd"
      }
    },
    {
      "cell_type": "code",
      "source": [
        "ltb_model = ltb.LGBMClassifier()\n",
        "param_grid = { \n",
        "    'n_estimators': [100,200,300, 400],\n",
        "    'max_features': ['auto', 'sqrt', 'log2'],\n",
        "    'max_depth' : [3,4,5,6,7,8],\n",
        "    'criterion' :['gini', 'entropy']\n",
        "}\n",
        "\n",
        "CV_rfc = GridSearchCV(estimator=ltb_model, param_grid=param_grid, cv= 5)\n",
        "CV_rfc.fit(X_train, y_train)\n",
        "\n"
      ],
      "metadata": {
        "colab": {
          "base_uri": "https://localhost:8080/"
        },
        "id": "92KBv4WBZn4z",
        "outputId": "775676ac-4bf6-4052-abd0-8db9699cf058"
      },
      "execution_count": null,
      "outputs": [
        {
          "output_type": "execute_result",
          "data": {
            "text/plain": [
              "GridSearchCV(cv=5, estimator=LGBMClassifier(),\n",
              "             param_grid={'criterion': ['gini', 'entropy'],\n",
              "                         'max_depth': [3, 4, 5, 6, 7, 8],\n",
              "                         'max_features': ['auto', 'sqrt', 'log2'],\n",
              "                         'n_estimators': [100, 200, 300, 400]})"
            ]
          },
          "metadata": {},
          "execution_count": 58
        }
      ]
    },
    {
      "cell_type": "markdown",
      "source": [
        "The following are the best parameters obtained from Grid Search CV on Light Gradient boosting. Using these parameters and fitting it reveals the the below accuracy "
      ],
      "metadata": {
        "id": "i6sCUkEnEl0a"
      }
    },
    {
      "cell_type": "code",
      "source": [
        "CV_rfc.best_params_"
      ],
      "metadata": {
        "colab": {
          "base_uri": "https://localhost:8080/"
        },
        "id": "l4gpgJU7Dx2c",
        "outputId": "3774f40c-8199-4eb8-bc65-57b0f26ece42"
      },
      "execution_count": null,
      "outputs": [
        {
          "output_type": "execute_result",
          "data": {
            "text/plain": [
              "{'criterion': 'gini',\n",
              " 'max_depth': 4,\n",
              " 'max_features': 'auto',\n",
              " 'n_estimators': 100}"
            ]
          },
          "metadata": {},
          "execution_count": 62
        }
      ]
    },
    {
      "cell_type": "code",
      "source": [
        "ltb_best = ltb.LGBMClassifier(criterion='gini',max_depth = 4, max_features = 'auto', n_estimators = 100)\n",
        "\n",
        "ltb_best.fit(X_train, y_train)\n",
        "#print(model)\n",
        "\n",
        "\n",
        "expected_y  = y_test\n",
        "predicted_y = ltb_best.predict(X_test)\n",
        "\n",
        "print(metrics.classification_report(expected_y, predicted_y))\n",
        "print(metrics.confusion_matrix(expected_y, predicted_y))\n"
      ],
      "metadata": {
        "colab": {
          "base_uri": "https://localhost:8080/"
        },
        "id": "TGgrJuoBDy9C",
        "outputId": "184c2552-c137-4cee-df9b-00b4d69ef9b7"
      },
      "execution_count": null,
      "outputs": [
        {
          "output_type": "stream",
          "name": "stdout",
          "text": [
            "              precision    recall  f1-score   support\n",
            "\n",
            "           0       0.55      0.38      0.44       128\n",
            "           1       0.84      0.92      0.88       472\n",
            "\n",
            "    accuracy                           0.80       600\n",
            "   macro avg       0.69      0.65      0.66       600\n",
            "weighted avg       0.78      0.80      0.79       600\n",
            "\n",
            "[[ 48  80]\n",
            " [ 40 432]]\n"
          ]
        }
      ]
    }
  ]
}